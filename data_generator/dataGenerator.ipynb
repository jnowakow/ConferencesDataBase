{
 "cells": [
  {
   "cell_type": "code",
   "execution_count": null,
   "metadata": {},
   "outputs": [],
   "source": [
    "'''8. Generator:Celem generatora było zapełnienie bazy jak najbardziej prawdopodobnymi danymi. \n",
    "    Wszystkie zwracane krotki są zgodne z założonymi warunkami integralnościowymi.\n",
    "    Są też pewne losowe zdarzenia, generowane z określonym prawdopodobieństwem \n",
    "    (np. większość rezerwacji jest opłacona w całości, jednak co jakiś czas zdarza się nadpłata \n",
    "     albo brak płatności.Wielkość przykładowych danych:\n",
    "     Participants: 2900\n",
    "     Customers: 100\n",
    "     Conferences: 72\n",
    "     Days: 136\n",
    "     Workshops: 330\n",
    "     Prices: 452\n",
    "     ConferencesBookings: 186\n",
    "     DaysBookings: 359\n",
    "     DaysEnrolment: 6312\n",
    "     WorkshopsBookings: 849\n",
    "     WorkshopsEnrolment: 8117\n",
    "     Payments: 435\n",
    "     Generowanie zajmuje zazwyczaj kilka sekund.\n",
    "     Parsowanie pliku z danymi (od fakenamegenerator.com) do data.txt:\n",
    "'''"
   ]
  },
  {
   "cell_type": "code",
   "execution_count": 190,
   "metadata": {},
   "outputs": [],
   "source": [
    "\n",
    "import csv\n",
    "\n",
    "with open('fakeName.csv', newline='', encoding='utf-8-sig') as csvfile:\n",
    "    spamreader = csv.reader(csvfile, delimiter=',')\n",
    "    data = [[row[1], row[2], row[8], row[9] , row[11],row[3],row[4],row[7], row[6]] for row in spamreader]\n",
    "    output = dict()\n",
    "    output['first_name'] = [row[0] for row in data][1:]\n",
    "    output['surname'] = [row[1] for row in data][1:]\n",
    "    output['address'] = [row[5] for row in data][1:]\n",
    "    output['city'] = [row[6] for row in data][1:]\n",
    "    output['country'] = [row[7] for row in data][1:]\n",
    "    output['mail'] = [row[2] for row in data][1:]\n",
    "    output['phone'] = [row[3] for row in data][1:]\n",
    "    output['companies'] = [row[4] for row in data][1:]\n",
    "    output['postal_code'] = [row[8] for row in data][1:]\n",
    "    #output['conferencenames'] = [row[6] for row in data]\n",
    "    \n",
    "    with open('data.txt', 'w+') as f:\n",
    "        f.write(str(output))\n",
    "\n",
    "\n"
   ]
  },
  {
   "cell_type": "code",
   "execution_count": 405,
   "metadata": {},
   "outputs": [],
   "source": [
    "#Generacja danych:\n",
    "\n",
    "\n",
    "import datetime\n",
    "import random\n",
    "import math\n",
    "\n",
    "with open('data.txt', 'r') as f:\n",
    "    data = eval(f.read())\n",
    "list_of_participants = list()\n",
    "\n",
    "list_of_clients = list()\n",
    "list_of_clients_to_destroy = list()\n",
    "\n",
    "list_of_conferences = list()\n",
    "\n",
    "list_of_conferencesPlaces = list()\n",
    "\n",
    "list_of_customers = list()\n",
    "list_of_conferences_bookings = list()\n",
    "\n",
    "list_of_discounts = list()\n",
    "\n",
    "\n",
    "list_of_days = list()\n",
    "list_of_days_bookings = list()\n",
    "list_of_days_enrollment = list()\n",
    "\n",
    "list_of_companies = list()\n",
    "\n",
    "list_of_people = list()\n",
    "list_of_prices = list()\n",
    "list_of_payments = list()\n",
    "\n",
    "list_of_students  = list()\n",
    "\n",
    "list_of_workshops = list()\n",
    "list_of_workshops_days = list()\n",
    "\n",
    "list_of_workshop_bookings = list()\n",
    "list_of_workshop_enrollment = list()\n",
    "\n"
   ]
  },
  {
   "cell_type": "code",
   "execution_count": null,
   "metadata": {},
   "outputs": [],
   "source": []
  },
  {
   "cell_type": "code",
   "execution_count": null,
   "metadata": {},
   "outputs": [],
   "source": []
  },
  {
   "cell_type": "code",
   "execution_count": 400,
   "metadata": {},
   "outputs": [],
   "source": [
    "\n",
    "def workshops_participation():\n",
    "    cols = '(Person_ID, Workshop_Reservation_ID)'\n",
    "    q_begin = 'INSERT INTO [dbo].[Workshops_Participant] ' + cols + ' VALUES '\n",
    "    q = q_begin\n",
    "    counter = 1\n",
    "    \n",
    "    for i, wb in enumerate(list_of_workshop_bookings):\n",
    "        workshop_booking_id = wb[0]\n",
    "        day_booking_id = wb[1]\n",
    "        workshop_id = wb[2]\n",
    "        places = wb[4]\n",
    "        start_time = list_of_workshops_days[workshop_id - 1][5]\n",
    "        end_time = list_of_workshops_days[workshop_id - 1][6]\n",
    "        de = [dr[0] for dr in list_of_conferences_bookings if dr[6] == day_booking_id]\n",
    "        \n",
    "        \n",
    "        allowed_de = set(de)\n",
    "        \n",
    "        for deID in de:\n",
    "            previous_workshops = [list_of_workshop_bookings[pe[2]-1][2]\n",
    "                                  for pe in list_of_workshop_enrollment if pe[1] == deID]\n",
    "            \n",
    "\n",
    "            previous_times = [list_of_workshops_days[workshopID - 1][5:7] for workshopID in previous_workshops]\n",
    "            \n",
    "            for time in previous_times:\n",
    "                if not (end_time < time[0] or time[1] < start_time):\n",
    "                    allowed_de.remove(deID)\n",
    "                    break\n",
    "                    \n",
    "        if random.randint(0, 8) == 0:\n",
    "            number = random.randint(0, len(allowed_de))\n",
    "        else:\n",
    "            number = len(allowed_de)\n",
    "           \n",
    "        \n",
    "        booked = random.sample(allowed_de, int(min(places, number)))\n",
    "        \n",
    "        \n",
    "        for j, deID in enumerate(booked):\n",
    "            q = q + '(' + str(deID) + ', '\\\n",
    "                    + str(workshop_booking_id) + ')'\n",
    "            \n",
    "            list_of_workshop_enrollment.append((counter, workshop_booking_id, deID))\n",
    "            counter += 1\n",
    "            \n",
    "            if counter % 900 == 899:\n",
    "                q += '\\n' + q_begin\n",
    "                \n",
    "            elif j < len(booked) - 1 or i < len(list_of_workshop_bookings) - 1:\n",
    "                q += ', '\n",
    "    return q\n"
   ]
  },
  {
   "cell_type": "code",
   "execution_count": 346,
   "metadata": {},
   "outputs": [],
   "source": [
    "def days_enrolment():\n",
    "    cols = '(Person_ID, Reservation_ID, Student)'\n",
    "    q_begin = 'INSERT INTO [dbo].[Conference_Day_Participant] ' + cols + ' VALUES '\n",
    "    q = q_begin\n",
    "    counter = 1\n",
    "\n",
    "    \n",
    "    student_list = [x[1] for x in list_of_students]\n",
    "    \n",
    "    \n",
    "    \n",
    "    for i in range(0, len(list_of_conferences_bookings)):\n",
    "        day_booking_id = i + 1\n",
    "        \n",
    "        if random.randint(0, 15) == 0:\n",
    "            normal_participants_number = random.randint(0, list_of_conferences_bookings[i][2])\n",
    "        else:\n",
    "            normal_participants_number = list_of_conferences_bookings[i][2]\n",
    "            \n",
    "        if random.randint(0, 15) == 0:\n",
    "            student_participants_number = random.randint(0, list_of_conferences_bookings[i][3])\n",
    "        else:\n",
    "            student_participants_number = list_of_conferences_bookings[i][3]\n",
    "        \n",
    "        nparticipants_list = random.sample(range(1, len(list_of_people)+1),\n",
    "                                          min(normal_participants_number, len(list_of_people)))\n",
    "        \n",
    "        sparticipants_list = random.sample(range(1, len(student_list)+1),\n",
    "                                          min(student_participants_number, len(student_list)))\n",
    "        \n",
    "   \n",
    "        participantsList = [[x,0] for x in nparticipants_list]\n",
    "        studentList = [[x,1] for x in sparticipants_list]\n",
    "        \n",
    "        if len(studentList) != 0 :\n",
    "            participantsList += studentList\n",
    "        \n",
    "        for j, participantID in enumerate(participantsList):\n",
    "            \n",
    "            q = q + '(' + str(participantID[0]) + ', '\\\n",
    "                        + str(day_booking_id) + ', '\\\n",
    "                        + str(participantID[1]) + ')'\n",
    "            list_of_days_enrollment.append((counter, participantID[0], day_booking_id, participantID[1]))\n",
    "            \n",
    "            counter += 1\n",
    "            if counter%900 == 899:\n",
    "                q += '\\n' + q_begin\n",
    "            elif j < len(participantsList) - 1:\n",
    "                q += ', '\n",
    "        \n",
    "        \n",
    "        if i < len(list_of_days_bookings) - 1 and participantsList:\n",
    "            q += ', '\n",
    "    return q"
   ]
  },
  {
   "cell_type": "code",
   "execution_count": 374,
   "metadata": {},
   "outputs": [],
   "source": [
    "import math\n",
    "\n",
    "\n",
    "def workshops_bookings():\n",
    "    cols = '(Reservation_ID, Workshop_ID, Conference_Day_ID, Ticket_Count,Is_Cancelled)'\n",
    "    q = 'INSERT INTO [dbo].[Workshop_Reservation] ' + cols + ' VALUES '\n",
    "    counter = 1\n",
    "    for i, workshop in enumerate(list_of_workshops_days):\n",
    "     \n",
    "        workshop_id = workshop[0]\n",
    "        day_id = workshop[1]\n",
    "        \n",
    "        if random.randint(0, 20) == 0:\n",
    "            places = random.randint(1, workshop[2])\n",
    "        else:\n",
    "            places = workshop[2]\n",
    "            \n",
    "        booked_for_day = []\n",
    "        \n",
    "        for day_booking in list_of_conferences_bookings:\n",
    "            if day_booking[6] == day_id:\n",
    "                booked_for_day += [day_booking]\n",
    "                \n",
    "\n",
    "                \n",
    "        bookingLen = len(booked_for_day)\n",
    "\n",
    "                \n",
    "\n",
    "        for j,dayBooking in enumerate(booked_for_day):\n",
    "            if (places != 0):\n",
    "                is_cancelled = list_of_conferences_bookings[dayBooking[0] - 1][7]\n",
    "                if is_cancelled == 0 and random.randint(0, 10) == 0:\n",
    "                    is_cancelled = 1\n",
    "\n",
    "                ticket_count = min(places, day_booking[2] + day_booking[3], math.ceil(workshop[2]/bookingLen))\n",
    "\n",
    "                places -= ticket_count\n",
    "                \n",
    "                q = q + '(' + str(dayBooking[0]) + ', '\\\n",
    "                            + str(workshop_id) + ', '\\\n",
    "                            + str(day_id) + ', '\\\n",
    "                            + str(ticket_count) + ', '\\\n",
    "                            + str(is_cancelled) + ')'\n",
    "\n",
    "                list_of_workshop_bookings.append((counter, dayBooking[0], workshop_id, day_id, ticket_count, is_cancelled))\n",
    "                counter += 1\n",
    "                if j < len(booked_for_day) - 1 or i < len(list_of_workshops):\n",
    "                    q += ', '\n",
    "            \n",
    "            \n",
    "    return q\n",
    "\n"
   ]
  },
  {
   "cell_type": "code",
   "execution_count": 246,
   "metadata": {},
   "outputs": [],
   "source": [
    "def sum_price(booking_ID):\n",
    "    booking = list_of_conferences_bookings[booking_ID-1]\n",
    "    normal_tickets = booking[2]\n",
    "    student_tickets = booking[3]\n",
    "    conference_day = list_of_days[booking[6]-1]\n",
    "    conference = list_of_conferences[conference_day[1]-1]\n",
    "    \n",
    "    total_price = normal_tickets * conference_day[4] + student_tickets * conference_day[4] * ((100 - conference[5])/100)\n",
    "    \n",
    "    max_discount = 0\n",
    "    \n",
    "    for x in list_of_discounts :\n",
    "        if (x[3] == conference_day[0] ):\n",
    "            if x[1] > max_discount and ( booking[1] + datetime.timedelta(days=(x[2])) ) < conference_day[2]:\n",
    "                max_discount = x[1]\n",
    "    \n",
    "    return total_price * ((100 - max_discount)/100)\n",
    "                 "
   ]
  },
  {
   "cell_type": "code",
   "execution_count": 433,
   "metadata": {},
   "outputs": [],
   "source": [
    "\n",
    "def payments():\n",
    "    cols = '(Payment_Date, Amount_Paid, Reservation_ID)'\n",
    "    q_begin = 'INSERT INTO [dbo].[Payments] ' + cols + ' VALUES '\n",
    "    q = q_begin\n",
    "    for i, booking in enumerate(list_of_conferences_bookings):\n",
    "        \n",
    "        conference_booking_id = booking[0]\n",
    "        to_pay = sum_price(conference_booking_id)\n",
    "        \n",
    "        conference_day_id = booking[6]\n",
    "        register_date = booking[1]\n",
    "        \n",
    "        conference_day = list_of_days[conference_day_id-1]\n",
    "        start_date = conference_day[2]\n",
    "        day_diff = (start_date - register_date).days\n",
    "        \n",
    "        payment_date = register_date + datetime.timedelta(days=random.randint(0, day_diff))\n",
    "        number_of_payments = random.choice([0, 0, 1, 1, 1, 2, 5, 7])\n",
    "        \n",
    "        for j in range(0, number_of_payments):\n",
    "            if j == number_of_payments - 1:\n",
    "                if random.randint(0, 10) == 0 and to_pay > 0.1:\n",
    "                    value = to_pay/(random.randint(2, 7))\n",
    "                elif random.randint(0, 30):\n",
    "                    value = to_pay * 2.4\n",
    "                else:\n",
    "                    value = to_pay\n",
    "            else:\n",
    "                if random.randint(0, 30) == 0:\n",
    "                    value = -random.uniform(1, to_pay)\n",
    "                else:\n",
    "                    value = random.uniform(1, to_pay)\n",
    "                to_pay -= value\n",
    "            q = q + '(' + str(payment_date) + ', \\''\\\n",
    "                        + str(value) + '\\', '\\\n",
    "                        + str(conference_booking_id) + ')'\n",
    "            list_of_payments.append((i + 1, conference_booking_id, payment_date, value))\n",
    "            if i % 900 == 899:\n",
    "                q += '\\n' + q_begin\n",
    "            elif i < len(list_of_conferences_bookings) - 1 or j < number_of_payments - 1:\n",
    "                q += ', '\n",
    "    return q"
   ]
  },
  {
   "cell_type": "code",
   "execution_count": 233,
   "metadata": {},
   "outputs": [],
   "source": [
    "\n",
    "def conferences_bookings():\n",
    "    cols = '(Reservation_Date, Normal_Ticket_Count, Student_Ticket_Count,Amount_To_Pay ,Client_ID, Conference_Day_ID, isCancelled)'\n",
    "    q = 'INSERT INTO [dbo].[Reservation] ' + cols + ' VALUES '\n",
    "    \n",
    "    counter = 1\n",
    "    for i, conference_day in enumerate(list_of_days):\n",
    "        conference_day_id = conference_day[0]\n",
    "        \n",
    "        participants_limit = conference_day[3]\n",
    "        \n",
    "        client_number = min(participants_limit//3, len(list_of_clients))\n",
    "        \n",
    "        clients_list = random.sample(range(1, len(list_of_clients)+1),\n",
    "                                       client_number)\n",
    "        \n",
    "        for j, customerID in enumerate(clients_list):\n",
    "            \n",
    "            register_date = list_of_days[conference_day_id - 1][2] - datetime.timedelta(days=random.randint(1, 60))\n",
    "            \n",
    "            if random.randint(0, 30) == 0 or conference_day[5]:\n",
    "                cancelled = 1\n",
    "            else:\n",
    "                cancelled = 0\n",
    "                \n",
    "            normal = min(random.randint(0,5), participants_limit)\n",
    "            student = min(random.randint(0,5), participants_limit)\n",
    "            \n",
    "            if (normal == 0 and student == 0):\n",
    "                normal = random.randint(1,3)\n",
    "            \n",
    "            if (cancelled == 0):\n",
    "                participants_limit - normal - student\n",
    "            \n",
    "            amount_to_pay = 0\n",
    "            \n",
    "            if (j == len(clients_list)-1 ):\n",
    "                normal += int (participants_limit/2);\n",
    "                participants_limit -= int(participants_limit/2)\n",
    "                student += participants_limit\n",
    "                \n",
    "            q = q + '(' + str(register_date) + ', '\\\n",
    "                        + str(normal) + ', \\''\\\n",
    "                        + str(student) + '\\', '\\\n",
    "                        + str(amount_to_pay) + '\\', '\\\n",
    "                        + str(customerID) + '\\', '\\\n",
    "                        + str(conference_day_id) + '\\', '\\\n",
    "                        + str(cancelled) + ')'\n",
    "            \n",
    "            list_of_conferences_bookings.append((counter, register_date, normal, student, amount_to_pay,customerID, conference_day_id,cancelled))\n",
    "            counter += 1\n",
    "            if j < len(clients_list) - 1:\n",
    "                q += ', '\n",
    "        if i < len(list_of_conferences) - 1 and clients_list:\n",
    "            q += ', '\n",
    "    return q\n"
   ]
  },
  {
   "cell_type": "code",
   "execution_count": 216,
   "metadata": {},
   "outputs": [],
   "source": [
    "\n",
    "def workshops_in_day():\n",
    "    cols = '(Workshop_ID, Conference_Day_ID, Participants_Limit, Price, Room, From, To, isCancelled)'\n",
    "    q = 'INSERT INTO [dbo].[Workshops] ' + cols + ' VALUES '\n",
    "    counter = 1\n",
    "    for i, day in enumerate(list_of_days):\n",
    "        day_id = day[0]\n",
    "        conference_id = day[1]\n",
    "        workshops_number = random.randint(3, 5)\n",
    "        for j in range(1, workshops_number):\n",
    "        \n",
    "            participants_limit = random.randint(10,26)\n",
    "            \n",
    "            room = str(random.randint(100,300)) + random.choice(('A','B','C','D')) \n",
    "            start_hour = random.randint(8, 19)\n",
    "            start_time = str(start_hour) + \":\" + str(random.choice(('00', '30', '15')))\n",
    "            end_hour = start_hour + random.choice((1, 2, 3, 4))\n",
    "            end_time = str(end_hour) + \":\" + str(random.choice(('00', '30', '15')))\n",
    "            price = random.randint(3, 15)*10\n",
    "            \n",
    "            is_cancelled = 0\n",
    "            if (random.randint(0,26) == 10):\n",
    "                is_cancelled = 1\n",
    "            \n",
    "            workshop_ID = random.randint(1, len(list_of_workshops) )\n",
    "            \n",
    "            q = q + '(' + str(workshop_ID) + ', \\''\\\n",
    "                        + str(conference_id) + '\\', '\\\n",
    "                        + str(participants_limit) + ', \\''\\\n",
    "                        + str(price) + '\\', \\''\\\n",
    "                        + str(room) + '\\', \\''\\\n",
    "                        + str(start_time) + '\\', \\''\\\n",
    "                        + str(end_time) + '\\', '\\\n",
    "                        + str(is_cancelled) + ')'\n",
    "            \n",
    "            list_of_workshops_days.append((counter, workshop_ID, conference_id, participants_limit, price, room, start_time, end_time, is_cancelled))\n",
    "            counter += 1\n",
    "            if j < workshops_number - 1 or i < len(list_of_days):\n",
    "                q += ', '\n",
    "    return q\n"
   ]
  },
  {
   "cell_type": "code",
   "execution_count": 202,
   "metadata": {},
   "outputs": [],
   "source": [
    "def discount():\n",
    "    cols = '(Discount_Percentage, Days_Before_Conference, Conference_Day_ID)'\n",
    "    q = 'INSERT INTO [dbo].[Discount] ' + cols + ' VALUES '\n",
    "    counter = 1\n",
    "    for i, conference_day in enumerate(list_of_days):\n",
    "        conference_day_ID = list_of_days[i][0]\n",
    "        discount_thresholds = random.randint(2,4)\n",
    "        discount_initial_value = random.randint(15,45)\n",
    "        initial_days_before_conference = random.randint(20,120)\n",
    "        for j in range(1,discount_thresholds + 1):\n",
    "            percentage = discount_initial_value/j\n",
    "            days_before = initial_days_before_conference/j\n",
    "            q = q + '(' + str(percentage) + ', '\\\n",
    "                        + str(days_before) + ', '\\\n",
    "                        + str(conference_day_ID) + ')'\n",
    "            list_of_discounts.append((counter, percentage,\n",
    "                                 days_before, conference_day_ID))\n",
    "            counter += 1\n",
    "            if j < discount_thresholds :\n",
    "                q += ', '\n",
    "    return q\n",
    "    "
   ]
  },
  {
   "cell_type": "code",
   "execution_count": 186,
   "metadata": {},
   "outputs": [],
   "source": [
    "\n",
    "def days():\n",
    "    cols = '(Conference_ID, Date, Participants_Limit, Base_Price, Is_Cancelled)'\n",
    "    q = 'INSERT INTO [dbo].[Conference_Day] ' + cols + ' VALUES '\n",
    "    counter = 1\n",
    "    for i, conference in enumerate(list_of_conferences):\n",
    "        conference_id = conference[0]\n",
    "        number_of_days_in_conference = abs((conference[3] - conference[2]).days)\n",
    "        for j in range(0, number_of_days_in_conference + 1):\n",
    "            is_cancelled = 0\n",
    "            if (random.randint(0,20) == 10):\n",
    "                is_cancelled = 1\n",
    "            date = conference[2] + datetime.timedelta(days=j)\n",
    "            participants_limit = random.randint(50,110)\n",
    "            base_price = random.randint(12,40) * 10\n",
    "            q = q + '(' + str(conference_id) + ', '\\\n",
    "                        + str(date) + ', '\\\n",
    "                        + str(participants_limit) + ', '\\\n",
    "                        + str(base_price) + ', '\\\n",
    "                        + str(is_cancelled) + ')'\n",
    "            list_of_days.append((counter, conference_id,\n",
    "                                 date, participants_limit, base_price, is_cancelled))\n",
    "            counter += 1\n",
    "            if j < number_of_days_in_conference or i < len(list_of_conferences) - 1:\n",
    "                q += ', '\n",
    "    return q"
   ]
  },
  {
   "cell_type": "code",
   "execution_count": 182,
   "metadata": {},
   "outputs": [],
   "source": [
    "\n",
    "def conferences(n):\n",
    "    cols = '(Conference_Name, Start_Date, End_Date, Place_ID, Student_Discount, is_Cancelled)'\n",
    "    q = 'INSERT INTO [dbo].[Conference] ' + cols + ' VALUES '\n",
    "    for i in range(0, n):\n",
    "        start_date = datetime.date(2017, 1, 1) + datetime.timedelta(days=random.randint(0, 1095))\n",
    "        end_date = start_date + datetime.timedelta(days=random.randint(1, 3))\n",
    "        conference_name = random.choice(('Driving', 'History of', 'Collecting', 'Colors of', '50 shades of')) \\\n",
    "            + ' ' + random.choice(('Cars', 'USA', 'Stones', 'Autumn', 'Mike'))\n",
    "        student_discount = random.randint(0, 100)/100\n",
    "        place_ID = list_of_conferencesPlaces[random.randint(0,len(list_of_conferencesPlaces)-1)][0]\n",
    "        if random.randint(0, 20) == 0:\n",
    "            is_cancelled = 1\n",
    "        else:\n",
    "            is_cancelled = 0\n",
    "        q = q + '(\\'' + conference_name + '\\', \\''\\\n",
    "                + str(start_date) + '\\', \\''\\\n",
    "                + str(end_date) + '\\', ' \\\n",
    "                + str(place_ID) + '\\', ' \\\n",
    "                + str(student_discount) + ', ' \\\n",
    "                + str(is_cancelled) + ')'\n",
    "        list_of_conferences.append((i + 1, conference_name, start_date, end_date,place_ID, student_discount, is_cancelled))\n",
    "        if i % 900 == 899:\n",
    "            q += '\\n' + q_begin\n",
    "        if i < n-1:\n",
    "            q += ', '\n",
    "    return q\n"
   ]
  },
  {
   "cell_type": "code",
   "execution_count": 178,
   "metadata": {},
   "outputs": [],
   "source": [
    "\n",
    "def conferencePlaces(n):\n",
    "    cols = '(Country, City, Street, Postal_Code)'\n",
    "    q = 'INSERT INTO [dbo].[Conference_Place] ' + cols + ' VALUES '\n",
    "    for i in range(0, n):\n",
    "        city = data['city'][i]\n",
    "        country = data['country'][i]\n",
    "        psCode = data['postal_code'][i]\n",
    "        address = data['address'][i]\n",
    "        q = q + '(\\'' + country + '\\', \\''\\\n",
    "                + city + '\\', \\''\\\n",
    "                + address + '\\', ' \\\n",
    "                + psCode + ')'\n",
    "        list_of_conferencesPlaces.append((i + 1, country, city, address, psCode))\n",
    "        if i < n-1:\n",
    "            q += ', '\n",
    "    return q"
   ]
  },
  {
   "cell_type": "code",
   "execution_count": 167,
   "metadata": {},
   "outputs": [],
   "source": [
    "def workshops(n):\n",
    "    cols = '(Subject, Description)'\n",
    "    q = 'INSERT INTO [dbo].[Workshop] ' + cols + ' VALUES '\n",
    "    subjects1 = ['Pierwsze', 'Drugie', 'Trzecie', 'Czwarte','Piąte']\n",
    "    subjects2 = ['pojawienie','wystapienie','zjedzenie','zbudowanie','ugotowanie']\n",
    "    subjects3 = ['czlowieka','budynku','kosmosu','kotka','piasku']\n",
    "    for i in range(0, n):\n",
    "        subject = subjects1[random.randint(0,4)] + ' ' + subjects2[random.randint(0,4)] + ' ' + subjects3[random.randint(0,4)] \n",
    "        description = \"toDo \" + str(i)\n",
    "        q = q + '(\\'' + subject + '\\', \\''\\\n",
    "                + description + ')'\n",
    "        list_of_workshops.append((i + 1, subject, description))\n",
    "        if i % 900 == 899:\n",
    "            q += '\\n' + q_begin\n",
    "        if i < n-1:\n",
    "            q += ', '\n",
    "    return q"
   ]
  },
  {
   "cell_type": "code",
   "execution_count": 196,
   "metadata": {},
   "outputs": [],
   "source": [
    "def student():\n",
    "    cols = '(Person_ID, University, Faculty, is_valid)'\n",
    "    q= 'INSERT INTO [dbo].[Student] ' + cols + ' VALUES '\n",
    "    Universities = ['AGH','UWR','UJK','Stanford','MIT','UJ']\n",
    "    Faculty = [\"informatyka\",\"medycyna\",\"prawo\"]\n",
    "    for i in range(0, int (len(list_of_people)/8)):\n",
    "        university = Universities[random.randint(0,len(Universities)-1)]\n",
    "        faculty = Faculty[random.randint(0,len(Faculty)-1)]\n",
    "        person_id = list_of_people[i*2][0]\n",
    "        q = q + '(\\'' + str(person_id) + '\\', \\''\\\n",
    "                    + university + '\\', \\''\\\n",
    "                    + faculty + '\\', '\\\n",
    "                    + str(1) + ')'\n",
    "        list_of_students.append((i+1, person_id, university, faculty, str(1)))\n",
    "        if i % 900 == 899:\n",
    "            q += '\\n' + q_begin\n",
    "        if i < len(list_of_people)/8 :\n",
    "            q += ', '\n",
    "    return q "
   ]
  },
  {
   "cell_type": "code",
   "execution_count": 129,
   "metadata": {},
   "outputs": [],
   "source": [
    "\n",
    "def company(n):\n",
    "    cols = '(Company_Name,Client_ID, Address, City, Country, Phone, Mail, Contact_Person)'\n",
    "    q= 'INSERT INTO [dbo].[Company] ' + cols + ' VALUES '\n",
    "    for i in range(0, n):\n",
    "        name = data['companies'][i]\n",
    "        adress = data['address'][i+7000]\n",
    "        city = data['city'][i+7000]\n",
    "        country = data['country'][i+7000]\n",
    "        phone = data['phone'][i+7000]\n",
    "        mail = data['mail'][i+7000]\n",
    "        contact_person = data['first_name'][i] + data['surname'][i]\n",
    "        popIndex = len(list_of_clients_to_destroy)\n",
    "        client_ID = list_of_clients_to_destroy.pop(random.randint(0, popIndex - 1 ))\n",
    "        popIndex -= 1\n",
    "        q = q + '(\\'' + name + '\\', \\''\\\n",
    "                    + str(client_ID) + '\\', \\''\\\n",
    "                    + adress + '\\', '\\\n",
    "                    + city + '\\', '\\\n",
    "                    + country + '\\', '\\\n",
    "                    + phone + '\\', '\\\n",
    "                    + mail + '\\', '\\\n",
    "                    + contact_person + ')'\n",
    "        list_of_companies.append((i+1, name, client_ID, adress, city, country, phone, mail,contact_person))\n",
    "        if i % 900 == 899:\n",
    "            q += '\\n' + q_begin\n",
    "        if i < n-1:\n",
    "            q += ', '\n",
    "    return q\n"
   ]
  },
  {
   "cell_type": "code",
   "execution_count": 130,
   "metadata": {},
   "outputs": [],
   "source": [
    "\n",
    "def people(n):\n",
    "    cols = '(Client_ID,First_Name, Last_Name, Address,City, Country ,Phone, Mail)'\n",
    "    q= 'INSERT INTO [dbo].[Person] ' + cols + ' VALUES '\n",
    "    for i in range(0, n):\n",
    "        #print(data['first_name'])\n",
    "        first_name = data['first_name'][i]\n",
    "        last_name = data['surname'][i]\n",
    "        adress = data['address'][i]\n",
    "        city = data['city'][i]\n",
    "        country = data['country'][i]\n",
    "        phone = data['phone'][i]\n",
    "        mail = data['mail'][i]\n",
    "        popIndex = len(list_of_clients_to_destroy)\n",
    "        client_ID = list_of_clients_to_destroy.pop(random.randint(0, popIndex-1))\n",
    "        popIndex -= 1\n",
    "        q = q + '(\\'' + str(client_ID) + '\\', \\''\\\n",
    "                    + first_name + '\\', \\''\\\n",
    "                    + last_name + '\\', \\''\\\n",
    "                    + adress + '\\', '\\\n",
    "                    + city + '\\', '\\\n",
    "                    + country + '\\', '\\\n",
    "                    + str(phone) + '\\', '\\\n",
    "                    + str(mail) + ')'\n",
    "        list_of_people.append((i+1, first_name, last_name, adress, city, country, phone, mail))\n",
    "        if i % 900 == 899:\n",
    "            q += '\\n' + q_begin\n",
    "        if i < n-1:\n",
    "            q += ', '\n",
    "    return q\n",
    "\n"
   ]
  },
  {
   "cell_type": "code",
   "execution_count": 131,
   "metadata": {},
   "outputs": [],
   "source": [
    "def clients(n):\n",
    "    q= '''INSERT INTO [dbo].[Client] DEFAULT VALUES'''\n",
    "    for i in range(0, n):\n",
    "        list_of_clients.append(i+1)\n",
    "        list_of_clients_to_destroy.append(i+1)\n",
    "        q += '''\n",
    "        INSERT INTO [dbo].[Client] DEFAULT VALUES'''\n",
    "\n",
    "    return q"
   ]
  },
  {
   "cell_type": "code",
   "execution_count": 406,
   "metadata": {},
   "outputs": [
    {
     "name": "stdout",
     "output_type": "stream",
     "text": [
      "INSERT INTO [dbo].[Client] DEFAULT VALUES\n",
      "        INSERT INTO [dbo].[Client] DEFAULT VALUES\n",
      "        INSERT INTO [dbo].[Client] DEFAULT VALUES\n",
      "        INSERT INTO [dbo].[Client] DEFAULT VALUES\n",
      "        INSERT INTO [dbo].[Client] DEFAULT VALUES\n",
      "        INSERT INTO [dbo].[Client] DEFAULT VALUES\n",
      "        INSERT INTO [dbo].[Client] DEFAULT VALUES\n",
      "        INSERT INTO [dbo].[Client] DEFAULT VALUES\n",
      "        INSERT INTO [dbo].[Client] DEFAULT VALUES\n",
      "        INSERT INTO [dbo].[Client] DEFAULT VALUES\n",
      "        INSERT INTO [dbo].[Client] DEFAULT VALUES\n",
      "        INSERT INTO [dbo].[Client] DEFAULT VALUES\n",
      "        INSERT INTO [dbo].[Client] DEFAULT VALUES\n",
      "        INSERT INTO [dbo].[Client] DEFAULT VALUES\n",
      "        INSERT INTO [dbo].[Client] DEFAULT VALUES\n",
      "        INSERT INTO [dbo].[Client] DEFAULT VALUES\n",
      "        INSERT INTO [dbo].[Client] DEFAULT VALUES\n",
      "        INSERT INTO [dbo].[Client] DEFAULT VALUES\n",
      "        INSERT INTO [dbo].[Client] DEFAULT VALUES\n",
      "        INSERT INTO [dbo].[Client] DEFAULT VALUES\n",
      "        INSERT INTO [dbo].[Client] DEFAULT VALUES\n",
      "        INSERT INTO [dbo].[Client] DEFAULT VALUES\n",
      "        INSERT INTO [dbo].[Client] DEFAULT VALUES\n",
      "        INSERT INTO [dbo].[Client] DEFAULT VALUES\n",
      "        INSERT INTO [dbo].[Client] DEFAULT VALUES\n",
      "        INSERT INTO [dbo].[Client] DEFAULT VALUES\n"
     ]
    }
   ],
   "source": [
    "print(clients(25))\n"
   ]
  },
  {
   "cell_type": "code",
   "execution_count": 407,
   "metadata": {},
   "outputs": [
    {
     "name": "stdout",
     "output_type": "stream",
     "text": [
      "INSERT INTO [dbo].[Person] (Client_ID,First_Name, Last_Name, Address,City, Country ,Phone, Mail) VALUES ('23', 'Sharon', 'Webster', '2914 Pinchelone Street', Newport News', United States', 757-380-3307', SharonTWebster@superrito.com), ('15', 'Dawn', 'Espinoza', '4148 Wood Duck Drive', Iron Mountain', United States', 906-369-5142', DawnMEspinoza@gustr.com), ('14', 'Haydee', 'Clark', '1724 Bird Spring Lane', Sugar Land', United States', 281-527-7519', HaydeeDClark@teleworm.us), ('19', 'Samuel', 'Williams', '4680 Hickory Lane', Washington', United States', 202-508-5305', SamuelEWilliams@einrot.com), ('4', 'Marva', 'Zubia', '52 Murry Street', Virginia Beach', United States', 757-491-6703', MarvaRZubia@fleckens.hu), ('6', 'Laureen', 'Twomey', '4672 Round Table Drive', Cincinnati', United States', 513-786-6439', LaureenRTwomey@cuvox.de), ('5', 'Marjorie', 'Mouton', '2197 Godfrey Road', New York', United States', 212-587-8166', MarjorieWMouton@jourrapide.com), ('20', 'Roderick', 'Webre', '324 Spring Haven Trail', West Milford', United States', 973-728-1243', RoderickAWebre@armyspy.com), ('13', 'Robert', 'Crawford', '4245 Jessie Street', Westerville', United States', 740-632-0299', RobertNCrawford@armyspy.com), ('10', 'Jamie', 'Smith', '43 Eagle Street', Mount Vernon', United States', 618-352-8875', JamieKSmith@superrito.com), ('24', 'Rebecca', 'Stevens', '4843 College View', Fairview Heights', United States', 618-597-2934', RebeccaCStevens@jourrapide.com), ('16', 'Seymour', 'Riggs', '4547 Scenicview Drive', Midland', United States', 432-233-2742', SeymourDRiggs@teleworm.us), ('21', 'Billy', 'Castelli', '2180 Eden Drive', Richmond', United States', 804-819-4360', BillyRCastelli@dayrep.com), ('7', 'Tonya', 'Cross', '646 C Street', Mansfield', United States', 508-337-0636', TonyaECross@teleworm.us), ('11', 'Kenneth', 'Garrison', '257 Devils Hill Road', Jackson', United States', 601-826-0440', KennethAGarrison@superrito.com), ('2', 'Betty', 'Wise', '3201 Southside Lane', Los Angeles', United States', 323-660-3967', BettyAWise@teleworm.us), ('8', 'Cassandra', 'Beebe', '994 Trymore Road', Springfield', United States', 507-723-8372', CassandraNBeebe@gustr.com), ('1', 'Helen', 'Rehkop', '4342 Abia Martin Drive', Garden City', United States', 631-555-3595', HelenJRehkop@armyspy.com), ('9', 'Stewart', 'Banuelos', '2494 Sunny Day Drive', Los Angeles', United States', 714-806-4787', StewartTBanuelos@teleworm.us), ('18', 'Delores', 'Ferland', '2612 Michigan Avenue', Bridgeville', United States', 724-681-8244', DeloresMFerland@jourrapide.com)\n"
     ]
    }
   ],
   "source": [
    "print(people(20))"
   ]
  },
  {
   "cell_type": "code",
   "execution_count": 408,
   "metadata": {},
   "outputs": [
    {
     "name": "stdout",
     "output_type": "stream",
     "text": [
      "[3, 12, 17, 22, 25]\n"
     ]
    }
   ],
   "source": [
    "print(list_of_clients_to_destroy)"
   ]
  },
  {
   "cell_type": "code",
   "execution_count": 409,
   "metadata": {},
   "outputs": [
    {
     "name": "stdout",
     "output_type": "stream",
     "text": [
      "INSERT INTO [dbo].[Company] (Company_Name,Client_ID, Address, City, Country, Phone, Mail, Contact_Person) VALUES ('Trak Auto', '22', '2390 Frum Street', Spring Hill', United States', 615-302-7438', NancyRStuckey@einrot.com', SharonWebster), ('Parts America', '12', '4577 Angus Road', New York', United States', 212-425-4999', EdwardEChase@rhyta.com', DawnEspinoza), ('Desert Garden Help', '3', '2088 Berry Street', Colorado Springs', United States', 719-577-6479', NicoleJJohnson@gustr.com', HaydeeClark), ('Four Leaf Clover', '25', '875 Copperhead Road', Meriden', United States', 860-671-6786', JosephJVogt@jourrapide.com', SamuelWilliams), ('Super Shops', '17', '2226 Columbia Boulevard', Baltimore', United States', 410-396-7393', MaryMMacklin@dayrep.com', MarvaZubia)\n"
     ]
    }
   ],
   "source": [
    "print(company(5))"
   ]
  },
  {
   "cell_type": "code",
   "execution_count": 410,
   "metadata": {},
   "outputs": [
    {
     "name": "stdout",
     "output_type": "stream",
     "text": [
      "INSERT INTO [dbo].[Student] (Person_ID, University, Faculty, is_valid) VALUES ('1', 'UJK', 'informatyka', 1), ('3', 'UJ', 'medycyna', 1), \n"
     ]
    }
   ],
   "source": [
    "print(student())"
   ]
  },
  {
   "cell_type": "code",
   "execution_count": 411,
   "metadata": {},
   "outputs": [
    {
     "name": "stdout",
     "output_type": "stream",
     "text": [
      "INSERT INTO [dbo].[Workshop] (Subject, Description) VALUES ('Drugie pojawienie piasku', 'toDo 0), ('Piąte ugotowanie piasku', 'toDo 1), ('Drugie zjedzenie piasku', 'toDo 2), ('Czwarte wystapienie budynku', 'toDo 3), ('Trzecie zjedzenie kosmosu', 'toDo 4), ('Trzecie ugotowanie budynku', 'toDo 5), ('Trzecie zbudowanie kosmosu', 'toDo 6), ('Pierwsze zbudowanie budynku', 'toDo 7)\n"
     ]
    }
   ],
   "source": [
    "print(workshops(8))"
   ]
  },
  {
   "cell_type": "code",
   "execution_count": 412,
   "metadata": {},
   "outputs": [
    {
     "name": "stdout",
     "output_type": "stream",
     "text": [
      "INSERT INTO [dbo].[Conference_Place] (Country, City, Street, Postal_Code) VALUES ('United States', 'Newport News', '2914 Pinchelone Street', 23607), ('United States', 'Iron Mountain', '4148 Wood Duck Drive', 49801), ('United States', 'Sugar Land', '1724 Bird Spring Lane', 77478), ('United States', 'Washington', '4680 Hickory Lane', 20005), ('United States', 'Virginia Beach', '52 Murry Street', 23451), ('United States', 'Cincinnati', '4672 Round Table Drive', 45241)\n"
     ]
    }
   ],
   "source": [
    "print(conferencePlaces(6))"
   ]
  },
  {
   "cell_type": "code",
   "execution_count": 413,
   "metadata": {},
   "outputs": [
    {
     "name": "stdout",
     "output_type": "stream",
     "text": [
      "INSERT INTO [dbo].[Conference] (Conference_Name, Start_Date, End_Date, Place_ID, Student_Discount, is_Cancelled) VALUES ('History of USA', '2019-01-29', '2019-01-30', 1', 0.65, 0), ('History of Mike', '2019-09-09', '2019-09-12', 3', 0.25, 0), ('History of USA', '2017-10-15', '2017-10-17', 5', 0.31, 0), ('Colors of Cars', '2017-08-07', '2017-08-08', 1', 0.52, 0)\n"
     ]
    }
   ],
   "source": [
    "print(conferences(4))"
   ]
  },
  {
   "cell_type": "code",
   "execution_count": 414,
   "metadata": {},
   "outputs": [
    {
     "name": "stdout",
     "output_type": "stream",
     "text": [
      "INSERT INTO [dbo].[Conference_Day] (Conference_ID, Date, Participants_Limit, Base_Price, Is_Cancelled) VALUES (1, 2019-01-29, 97, 330, 0), (1, 2019-01-30, 74, 150, 0), (2, 2019-09-09, 94, 220, 0), (2, 2019-09-10, 70, 380, 0), (2, 2019-09-11, 75, 200, 0), (2, 2019-09-12, 70, 370, 0), (3, 2017-10-15, 98, 290, 1), (3, 2017-10-16, 70, 180, 0), (3, 2017-10-17, 91, 150, 0), (4, 2017-08-07, 75, 310, 0), (4, 2017-08-08, 79, 150, 0)\n"
     ]
    }
   ],
   "source": [
    "print(days())"
   ]
  },
  {
   "cell_type": "code",
   "execution_count": 415,
   "metadata": {},
   "outputs": [
    {
     "name": "stdout",
     "output_type": "stream",
     "text": [
      "INSERT INTO [dbo].[Discount] (Discount_Percentage, Days_Before_Conference, Conference_Day_ID) VALUES (18.0, 36.0, 1), (9.0, 18.0, 1)(20.0, 31.0, 2), (10.0, 15.5, 2)(37.0, 104.0, 3), (18.5, 52.0, 3), (12.333333333333334, 34.666666666666664, 3), (9.25, 26.0, 3)(42.0, 106.0, 4), (21.0, 53.0, 4), (14.0, 35.333333333333336, 4)(34.0, 35.0, 5), (17.0, 17.5, 5)(44.0, 85.0, 6), (22.0, 42.5, 6), (14.666666666666666, 28.333333333333332, 6), (11.0, 21.25, 6)(31.0, 100.0, 7), (15.5, 50.0, 7), (10.333333333333334, 33.333333333333336, 7), (7.75, 25.0, 7)(15.0, 56.0, 8), (7.5, 28.0, 8), (5.0, 18.666666666666668, 8)(45.0, 33.0, 9), (22.5, 16.5, 9), (15.0, 11.0, 9), (11.25, 8.25, 9)(29.0, 38.0, 10), (14.5, 19.0, 10)(43.0, 85.0, 11), (21.5, 42.5, 11), (14.333333333333334, 28.333333333333332, 11), (10.75, 21.25, 11)\n"
     ]
    }
   ],
   "source": [
    "print(discount())"
   ]
  },
  {
   "cell_type": "code",
   "execution_count": 416,
   "metadata": {},
   "outputs": [
    {
     "name": "stdout",
     "output_type": "stream",
     "text": [
      "INSERT INTO [dbo].[Workshops] (Workshop_ID, Conference_Day_ID, Participants_Limit, Price, Room, From, To, isCancelled) VALUES (6, '1', 22, '130', '267D', '13:30', '14:15', 0), (4, '1', 16, '130', '129D', '16:30', '19:15', 0), (6, '1', 10, '30', '212A', '13:00', '14:15', 0), (1, '1', 19, '50', '268D', '18:00', '19:00', 0), (1, '1', 22, '70', '251C', '10:00', '11:15', 0), (7, '1', 22, '120', '182C', '17:15', '21:15', 0), (7, '2', 16, '40', '244B', '12:15', '14:15', 0), (5, '2', 22, '110', '129A', '14:00', '15:15', 0), (8, '2', 20, '80', '287D', '14:15', '17:30', 0), (1, '2', 12, '100', '239B', '16:00', '20:00', 0), (8, '2', 24, '130', '107A', '13:30', '15:00', 0), (1, '2', 13, '50', '193B', '14:15', '15:30', 0), (1, '2', 10, '40', '180B', '10:15', '14:30', 1), (4, '2', 19, '130', '215C', '11:00', '14:30', 0), (7, '2', 18, '80', '133B', '19:30', '22:00', 0), (8, '2', 14, '60', '217B', '16:15', '19:00', 0), (4, '2', 11, '60', '109A', '12:15', '15:30', 0), (3, '2', 25, '80', '251C', '13:15', '16:30', 0), (5, '2', 14, '80', '242B', '11:15', '15:00', 0), (1, '3', 13, '30', '125B', '18:00', '21:15', 0), (7, '3', 16, '90', '106B', '13:30', '14:15', 0), (6, '3', 21, '30', '172B', '15:15', '16:15', 0), (1, '3', 18, '50', '283C', '8:00', '12:00', 0), (1, '3', 23, '100', '114C', '19:00', '20:15', 0), (4, '3', 25, '60', '258B', '18:00', '20:30', 0), (7, '3', 21, '30', '246D', '16:15', '18:15', 0), (1, '4', 18, '130', '221C', '17:00', '18:30', 0), (6, '4', 25, '80', '267B', '14:15', '18:15', 0), (5, '4', 20, '130', '159B', '15:15', '16:30', 0), (1, '4', 26, '140', '169C', '8:30', '11:00', 0), (7, '4', 12, '110', '297C', '8:30', '9:00', 0), (4, '4', 16, '70', '212A', '8:30', '10:30', 0), \n"
     ]
    }
   ],
   "source": [
    "print(workshops_in_day())"
   ]
  },
  {
   "cell_type": "code",
   "execution_count": 417,
   "metadata": {},
   "outputs": [
    {
     "name": "stdout",
     "output_type": "stream",
     "text": [
      "INSERT INTO [dbo].[Reservation] (Reservation_Date, Normal_Ticket_Count, Student_Ticket_Count,Amount_To_Pay ,Client_ID, Conference_Day_ID, isCancelled) VALUES (2019-01-11, 5, '0', 0', 13', 1', 0), (2019-01-28, 5, '5', 0', 22', 1', 0), (2019-01-07, 1, '1', 0', 3', 1', 0), (2018-11-30, 4, '3', 0', 18', 1', 0), (2019-01-16, 1, '2', 0', 17', 1', 0), (2019-01-10, 1, '4', 0', 8', 1', 0), (2018-12-05, 3, '5', 0', 19', 1', 0), (2019-01-23, 0, '1', 0', 24', 1', 0), (2018-12-29, 5, '5', 0', 16', 1', 0), (2018-12-06, 1, '4', 0', 25', 1', 0), (2018-12-23, 2, '1', 0', 7', 1', 0), (2019-01-02, 2, '5', 0', 6', 1', 0), (2018-12-22, 2, '3', 0', 4', 1', 0), (2019-01-18, 0, '2', 0', 1', 1', 0), (2019-01-01, 3, '2', 0', 5', 1', 0), (2019-01-23, 1, '5', 0', 14', 1', 0), (2018-12-11, 0, '2', 0', 23', 1', 0), (2018-12-30, 5, '4', 0', 12', 1', 0), (2018-12-08, 2, '2', 0', 10', 1', 0), (2018-12-23, 5, '3', 0', 9', 1', 0), (2018-12-09, 4, '1', 0', 2', 1', 0), (2018-12-10, 1, '0', 0', 20', 1', 0), (2019-01-10, 3, '3', 0', 15', 1', 0), (2018-12-06, 0, '5', 0', 11', 1', 0), (2018-12-16, 52, '53', 0', 21', 1', 0), (2018-12-28, 3, '0', 0', 5', 2', 0), (2019-01-19, 3, '1', 0', 22', 2', 0), (2018-12-11, 5, '5', 0', 14', 2', 0), (2018-12-12, 1, '0', 0', 1', 2', 0), (2018-12-17, 4, '1', 0', 18', 2', 0), (2018-12-21, 5, '4', 0', 2', 2', 0), (2019-01-11, 2, '1', 0', 6', 2', 0), (2019-01-04, 2, '5', 0', 10', 2', 0), (2018-12-31, 2, '2', 0', 7', 2', 0), (2019-01-14, 1, '3', 0', 17', 2', 0), (2019-01-22, 4, '0', 0', 23', 2', 0), (2018-12-11, 5, '4', 0', 24', 2', 0), (2018-12-28, 5, '2', 0', 3', 2', 0), (2018-12-17, 2, '0', 0', 25', 2', 0), (2018-12-26, 5, '2', 0', 9', 2', 0), (2018-12-10, 5, '2', 0', 8', 2', 0), (2019-01-11, 5, '5', 0', 21', 2', 0), (2018-12-26, 0, '4', 0', 13', 2', 0), (2018-12-03, 3, '3', 0', 4', 2', 0), (2019-01-05, 4, '1', 0', 12', 2', 0), (2019-01-28, 0, '2', 0', 11', 2', 0), (2018-12-21, 4, '1', 0', 16', 2', 0), (2018-12-09, 1, '2', 0', 20', 2', 0), (2018-12-24, 39, '37', 0', 15', 2', 0), (2019-07-27, 4, '2', 0', 9', 3', 0), (2019-07-29, 4, '3', 0', 10', 3', 0), (2019-07-28, 0, '3', 0', 3', 3', 0), (2019-07-26, 0, '3', 0', 25', 3', 0), (2019-08-15, 1, '1', 0', 23', 3', 0), (2019-07-13, 3, '2', 0', 8', 3', 0), (2019-08-09, 2, '4', 0', 2', 3', 0), (2019-08-09, 5, '5', 0', 21', 3', 0), (2019-09-06, 5, '1', 0', 18', 3', 0), (2019-07-24, 2, '4', 0', 12', 3', 0), (2019-08-10, 1, '3', 0', 6', 3', 0), (2019-08-22, 0, '4', 0', 4', 3', 0), (2019-08-02, 4, '1', 0', 1', 3', 0), (2019-07-24, 3, '3', 0', 22', 3', 1), (2019-07-30, 5, '3', 0', 16', 3', 0), (2019-09-02, 3, '0', 0', 13', 3', 0), (2019-08-12, 1, '5', 0', 17', 3', 0), (2019-07-23, 0, '4', 0', 7', 3', 0), (2019-09-08, 1, '0', 0', 19', 3', 0), (2019-08-09, 2, '2', 0', 20', 3', 0), (2019-08-03, 1, '1', 0', 5', 3', 0), (2019-07-21, 4, '1', 0', 14', 3', 0), (2019-08-03, 3, '2', 0', 24', 3', 0), (2019-07-20, 4, '4', 0', 15', 3', 0), (2019-09-03, 50, '47', 0', 11', 3', 0), (2019-07-31, 5, '0', 0', 7', 4', 0), (2019-08-19, 1, '2', 0', 21', 4', 0), (2019-07-21, 4, '4', 0', 9', 4', 0), (2019-09-06, 0, '1', 0', 19', 4', 0), (2019-08-25, 3, '0', 0', 14', 4', 0), (2019-07-17, 4, '3', 0', 4', 4', 0), (2019-07-28, 2, '5', 0', 13', 4', 0), (2019-07-23, 2, '5', 0', 22', 4', 0), (2019-08-14, 3, '4', 0', 6', 4', 0), (2019-08-29, 3, '4', 0', 20', 4', 0), (2019-07-29, 4, '5', 0', 18', 4', 0), (2019-08-05, 2, '1', 0', 25', 4', 0), (2019-07-17, 5, '1', 0', 15', 4', 0), (2019-08-14, 1, '0', 0', 16', 4', 0), (2019-09-04, 1, '4', 0', 8', 4', 0), (2019-07-22, 5, '2', 0', 17', 4', 0), (2019-09-09, 5, '2', 0', 12', 4', 0), (2019-08-25, 5, '0', 0', 11', 4', 0), (2019-08-10, 0, '3', 0', 2', 4', 0), (2019-09-05, 4, '3', 0', 3', 4', 0), (2019-08-16, 2, '1', 0', 5', 4', 0), (2019-08-12, 3, '3', 0', 23', 4', 0), (2019-08-28, 37, '40', 0', 1', 4', 0)(2019-07-24, 1, '2', 0', 19', 5', 1), (2019-08-28, 5, '2', 0', 7', 5', 0), (2019-08-04, 5, '0', 0', 16', 5', 0), (2019-09-02, 2, '1', 0', 23', 5', 0), (2019-07-13, 5, '3', 0', 24', 5', 0), (2019-08-01, 1, '0', 0', 11', 5', 0), (2019-07-19, 1, '2', 0', 10', 5', 0), (2019-09-01, 4, '3', 0', 12', 5', 0), (2019-09-03, 3, '5', 0', 1', 5', 0), (2019-07-20, 5, '3', 0', 9', 5', 0), (2019-09-06, 5, '5', 0', 14', 5', 0), (2019-07-27, 4, '0', 0', 2', 5', 0), (2019-09-10, 0, '5', 0', 20', 5', 0), (2019-08-15, 3, '4', 0', 21', 5', 0), (2019-08-21, 2, '4', 0', 6', 5', 0), (2019-08-06, 3, '2', 0', 15', 5', 0), (2019-08-02, 4, '4', 0', 3', 5', 0), (2019-08-12, 5, '3', 0', 8', 5', 0), (2019-08-08, 5, '0', 0', 5', 5', 0), (2019-08-28, 1, '1', 0', 25', 5', 0), (2019-09-01, 1, '0', 0', 4', 5', 0), (2019-08-08, 1, '4', 0', 17', 5', 0), (2019-08-28, 3, '1', 0', 13', 5', 0), (2019-09-03, 0, '4', 0', 18', 5', 0), (2019-09-02, 40, '38', 0', 22', 5', 0)(2019-09-10, 3, '2', 0', 6', 6', 0), (2019-07-27, 1, '0', 0', 18', 6', 0), (2019-07-23, 0, '4', 0', 25', 6', 0), (2019-07-21, 5, '2', 0', 5', 6', 0), (2019-07-24, 2, '4', 0', 19', 6', 0), (2019-07-28, 4, '5', 0', 1', 6', 0), (2019-07-19, 2, '1', 0', 4', 6', 0), (2019-08-09, 1, '3', 0', 3', 6', 0), (2019-08-10, 3, '5', 0', 9', 6', 0), (2019-08-19, 1, '0', 0', 16', 6', 0), (2019-07-18, 0, '2', 0', 12', 6', 0), (2019-07-17, 2, '3', 0', 2', 6', 0), (2019-07-24, 5, '3', 0', 10', 6', 0), (2019-07-17, 2, '4', 0', 20', 6', 0), (2019-08-11, 0, '3', 0', 15', 6', 0), (2019-08-22, 2, '1', 0', 14', 6', 0), (2019-08-13, 3, '3', 0', 13', 6', 0), (2019-08-16, 3, '4', 0', 23', 6', 0), (2019-08-25, 5, '4', 0', 11', 6', 0), (2019-09-11, 3, '4', 0', 17', 6', 0), (2019-07-17, 2, '3', 0', 22', 6', 0), (2019-08-12, 4, '1', 0', 7', 6', 0), (2019-08-26, 37, '36', 0', 21', 6', 1)(2017-08-28, 1, '0', 0', 3', 7', 1), (2017-09-20, 4, '5', 0', 16', 7', 1), (2017-08-24, 3, '4', 0', 6', 7', 1), (2017-09-23, 1, '3', 0', 15', 7', 1), (2017-10-09, 5, '1', 0', 18', 7', 1), (2017-10-02, 1, '3', 0', 20', 7', 1), (2017-08-26, 2, '1', 0', 4', 7', 1), (2017-10-03, 0, '2', 0', 23', 7', 1), (2017-09-13, 2, '1', 0', 1', 7', 1), (2017-08-28, 2, '1', 0', 8', 7', 1), (2017-10-14, 3, '0', 0', 19', 7', 1), (2017-10-01, 4, '5', 0', 22', 7', 1), (2017-08-29, 2, '2', 0', 12', 7', 1), (2017-10-06, 2, '1', 0', 5', 7', 1), (2017-09-10, 2, '1', 0', 7', 7', 1), (2017-10-07, 4, '4', 0', 11', 7', 1), (2017-09-14, 0, '2', 0', 21', 7', 1), (2017-09-28, 3, '4', 0', 13', 7', 1), (2017-09-12, 1, '1', 0', 24', 7', 1), (2017-08-28, 5, '0', 0', 2', 7', 1), (2017-08-24, 3, '0', 0', 25', 7', 1), (2017-09-19, 1, '4', 0', 10', 7', 1), (2017-10-07, 3, '4', 0', 9', 7', 1), (2017-09-23, 1, '4', 0', 14', 7', 1), (2017-10-11, 49, '53', 0', 17', 7', 1)(2017-08-20, 1, '2', 0', 17', 8', 0), (2017-08-18, 4, '0', 0', 20', 8', 0), (2017-10-04, 1, '2', 0', 24', 8', 0), (2017-09-13, 0, '2', 0', 15', 8', 0), (2017-10-12, 0, '4', 0', 25', 8', 0), (2017-09-12, 0, '2', 0', 7', 8', 0), (2017-08-17, 2, '4', 0', 9', 8', 0), (2017-10-05, 0, '4', 0', 13', 8', 0), (2017-09-20, 1, '0', 0', 12', 8', 1), (2017-10-15, 0, '4', 0', 21', 8', 0), (2017-09-08, 1, '1', 0', 6', 8', 0), (2017-08-26, 2, '0', 0', 22', 8', 0), (2017-09-08, 1, '2', 0', 18', 8', 0), (2017-09-02, 0, '2', 0', 19', 8', 0), (2017-09-10, 1, '3', 0', 16', 8', 0), (2017-10-12, 2, '5', 0', 1', 8', 0), (2017-09-14, 2, '5', 0', 11', 8', 0), (2017-09-09, 0, '1', 0', 8', 8', 0), (2017-09-15, 4, '3', 0', 2', 8', 0), (2017-10-07, 1, '5', 0', 23', 8', 0), (2017-10-02, 1, '5', 0', 4', 8', 0), (2017-09-25, 0, '2', 0', 5', 8', 0), (2017-09-25, 39, '36', 0', 10', 8', 0)(2017-09-26, 1, '3', 0', 9', 9', 0), (2017-09-28, 0, '3', 0', 19', 9', 0), (2017-10-12, 5, '5', 0', 2', 9', 0), (2017-09-24, 0, '3', 0', 7', 9', 0), (2017-09-13, 0, '4', 0', 21', 9', 0), (2017-08-29, 2, '2', 0', 16', 9', 1), (2017-09-05, 0, '1', 0', 5', 9', 0), (2017-09-05, 0, '5', 0', 11', 9', 0), (2017-09-05, 1, '5', 0', 1', 9', 0), (2017-10-07, 4, '1', 0', 18', 9', 0), (2017-09-04, 1, '0', 0', 24', 9', 1), (2017-09-10, 4, '2', 0', 15', 9', 0), (2017-10-03, 5, '2', 0', 25', 9', 0), (2017-08-31, 1, '0', 0', 17', 9', 0), (2017-10-07, 0, '5', 0', 23', 9', 0), (2017-08-20, 2, '0', 0', 14', 9', 0), (2017-08-19, 2, '3', 0', 22', 9', 0), (2017-09-22, 5, '4', 0', 20', 9', 0), (2017-10-10, 3, '0', 0', 10', 9', 0), (2017-09-06, 3, '1', 0', 8', 9', 0), (2017-08-24, 3, '4', 0', 13', 9', 0), (2017-08-23, 3, '5', 0', 12', 9', 0), (2017-09-26, 0, '5', 0', 3', 9', 0), (2017-10-12, 5, '1', 0', 4', 9', 0), (2017-10-09, 50, '49', 0', 6', 9', 0)(2017-07-31, 0, '3', 0', 10', 10', 0), (2017-06-22, 1, '2', 0', 11', 10', 0), (2017-07-19, 3, '4', 0', 22', 10', 0), (2017-07-12, 2, '5', 0', 4', 10', 0), (2017-06-08, 1, '4', 0', 2', 10', 1), (2017-07-22, 3, '0', 0', 20', 10', 0), (2017-08-05, 4, '2', 0', 23', 10', 0), (2017-07-26, 5, '4', 0', 15', 10', 0), (2017-06-16, 4, '2', 0', 13', 10', 0), (2017-06-28, 0, '2', 0', 1', 10', 0), (2017-07-27, 3, '2', 0', 7', 10', 0), (2017-08-02, 0, '2', 0', 18', 10', 0), (2017-07-21, 3, '4', 0', 24', 10', 0), (2017-07-11, 5, '0', 0', 12', 10', 0), (2017-06-26, 4, '3', 0', 5', 10', 0), (2017-07-31, 1, '2', 0', 3', 10', 0), (2017-06-27, 2, '1', 0', 8', 10', 0), (2017-06-23, 3, '2', 0', 25', 10', 0), (2017-07-18, 0, '1', 0', 14', 10', 0), (2017-06-19, 1, '5', 0', 21', 10', 0), (2017-06-20, 3, '5', 0', 16', 10', 0), (2017-07-16, 5, '0', 0', 6', 10', 0), (2017-06-19, 5, '4', 0', 17', 10', 0), (2017-06-24, 0, '2', 0', 9', 10', 0), (2017-06-30, 39, '42', 0', 19', 10', 0)(2017-07-03, 4, '5', 0', 2', 11', 0), (2017-06-24, 4, '4', 0', 7', 11', 0), (2017-08-06, 5, '1', 0', 8', 11', 0), (2017-08-04, 4, '4', 0', 4', 11', 0), (2017-07-01, 4, '3', 0', 12', 11', 1), (2017-07-25, 1, '0', 0', 22', 11', 0), (2017-07-23, 5, '5', 0', 5', 11', 0), (2017-06-24, 3, '5', 0', 19', 11', 0), (2017-08-02, 3, '5', 0', 18', 11', 0), (2017-06-29, 2, '2', 0', 3', 11', 0), (2017-06-12, 5, '0', 0', 20', 11', 0), (2017-08-02, 5, '2', 0', 9', 11', 0), (2017-07-27, 5, '2', 0', 24', 11', 0), (2017-08-06, 0, '4', 0', 14', 11', 0), (2017-07-16, 4, '4', 0', 6', 11', 0), (2017-07-08, 1, '0', 0', 11', 11', 0), (2017-06-14, 0, '1', 0', 15', 11', 0), (2017-06-30, 5, '3', 0', 17', 11', 1), (2017-08-07, 4, '5', 0', 21', 11', 0), (2017-07-22, 1, '5', 0', 13', 11', 0), (2017-07-04, 0, '4', 0', 23', 11', 0), (2017-07-03, 3, '4', 0', 25', 11', 0), (2017-07-19, 5, '4', 0', 16', 11', 0), (2017-08-01, 1, '0', 0', 1', 11', 0), (2017-06-18, 42, '41', 0', 10', 11', 0)\n"
     ]
    }
   ],
   "source": [
    "print(conferences_bookings())"
   ]
  },
  {
   "cell_type": "code",
   "execution_count": 432,
   "metadata": {},
   "outputs": [
    {
     "name": "stdout",
     "output_type": "stream",
     "text": [
      "[(1, datetime.date(2019, 1, 11), 5, 0, 0, 13, 1, 0), (2, datetime.date(2019, 1, 28), 5, 5, 0, 22, 1, 0), (3, datetime.date(2019, 1, 7), 1, 1, 0, 3, 1, 0), (4, datetime.date(2018, 11, 30), 4, 3, 0, 18, 1, 0), (5, datetime.date(2019, 1, 16), 1, 2, 0, 17, 1, 0), (6, datetime.date(2019, 1, 10), 1, 4, 0, 8, 1, 0), (7, datetime.date(2018, 12, 5), 3, 5, 0, 19, 1, 0), (8, datetime.date(2019, 1, 23), 0, 1, 0, 24, 1, 0), (9, datetime.date(2018, 12, 29), 5, 5, 0, 16, 1, 0), (10, datetime.date(2018, 12, 6), 1, 4, 0, 25, 1, 0), (11, datetime.date(2018, 12, 23), 2, 1, 0, 7, 1, 0), (12, datetime.date(2019, 1, 2), 2, 5, 0, 6, 1, 0), (13, datetime.date(2018, 12, 22), 2, 3, 0, 4, 1, 0), (14, datetime.date(2019, 1, 18), 0, 2, 0, 1, 1, 0), (15, datetime.date(2019, 1, 1), 3, 2, 0, 5, 1, 0), (16, datetime.date(2019, 1, 23), 1, 5, 0, 14, 1, 0), (17, datetime.date(2018, 12, 11), 0, 2, 0, 23, 1, 0), (18, datetime.date(2018, 12, 30), 5, 4, 0, 12, 1, 0), (19, datetime.date(2018, 12, 8), 2, 2, 0, 10, 1, 0), (20, datetime.date(2018, 12, 23), 5, 3, 0, 9, 1, 0), (21, datetime.date(2018, 12, 9), 4, 1, 0, 2, 1, 0), (22, datetime.date(2018, 12, 10), 1, 0, 0, 20, 1, 0), (23, datetime.date(2019, 1, 10), 3, 3, 0, 15, 1, 0), (24, datetime.date(2018, 12, 6), 0, 5, 0, 11, 1, 0), (25, datetime.date(2018, 12, 16), 52, 53, 0, 21, 1, 0), (26, datetime.date(2018, 12, 28), 3, 0, 0, 5, 2, 0), (27, datetime.date(2019, 1, 19), 3, 1, 0, 22, 2, 0), (28, datetime.date(2018, 12, 11), 5, 5, 0, 14, 2, 0), (29, datetime.date(2018, 12, 12), 1, 0, 0, 1, 2, 0), (30, datetime.date(2018, 12, 17), 4, 1, 0, 18, 2, 0), (31, datetime.date(2018, 12, 21), 5, 4, 0, 2, 2, 0), (32, datetime.date(2019, 1, 11), 2, 1, 0, 6, 2, 0), (33, datetime.date(2019, 1, 4), 2, 5, 0, 10, 2, 0), (34, datetime.date(2018, 12, 31), 2, 2, 0, 7, 2, 0), (35, datetime.date(2019, 1, 14), 1, 3, 0, 17, 2, 0), (36, datetime.date(2019, 1, 22), 4, 0, 0, 23, 2, 0), (37, datetime.date(2018, 12, 11), 5, 4, 0, 24, 2, 0), (38, datetime.date(2018, 12, 28), 5, 2, 0, 3, 2, 0), (39, datetime.date(2018, 12, 17), 2, 0, 0, 25, 2, 0), (40, datetime.date(2018, 12, 26), 5, 2, 0, 9, 2, 0), (41, datetime.date(2018, 12, 10), 5, 2, 0, 8, 2, 0), (42, datetime.date(2019, 1, 11), 5, 5, 0, 21, 2, 0), (43, datetime.date(2018, 12, 26), 0, 4, 0, 13, 2, 0), (44, datetime.date(2018, 12, 3), 3, 3, 0, 4, 2, 0), (45, datetime.date(2019, 1, 5), 4, 1, 0, 12, 2, 0), (46, datetime.date(2019, 1, 28), 0, 2, 0, 11, 2, 0), (47, datetime.date(2018, 12, 21), 4, 1, 0, 16, 2, 0), (48, datetime.date(2018, 12, 9), 1, 2, 0, 20, 2, 0), (49, datetime.date(2018, 12, 24), 39, 37, 0, 15, 2, 0), (50, datetime.date(2019, 7, 27), 4, 2, 0, 9, 3, 0), (51, datetime.date(2019, 7, 29), 4, 3, 0, 10, 3, 0), (52, datetime.date(2019, 7, 28), 0, 3, 0, 3, 3, 0), (53, datetime.date(2019, 7, 26), 0, 3, 0, 25, 3, 0), (54, datetime.date(2019, 8, 15), 1, 1, 0, 23, 3, 0), (55, datetime.date(2019, 7, 13), 3, 2, 0, 8, 3, 0), (56, datetime.date(2019, 8, 9), 2, 4, 0, 2, 3, 0), (57, datetime.date(2019, 8, 9), 5, 5, 0, 21, 3, 0), (58, datetime.date(2019, 9, 6), 5, 1, 0, 18, 3, 0), (59, datetime.date(2019, 7, 24), 2, 4, 0, 12, 3, 0), (60, datetime.date(2019, 8, 10), 1, 3, 0, 6, 3, 0), (61, datetime.date(2019, 8, 22), 0, 4, 0, 4, 3, 0), (62, datetime.date(2019, 8, 2), 4, 1, 0, 1, 3, 0), (63, datetime.date(2019, 7, 24), 3, 3, 0, 22, 3, 1), (64, datetime.date(2019, 7, 30), 5, 3, 0, 16, 3, 0), (65, datetime.date(2019, 9, 2), 3, 0, 0, 13, 3, 0), (66, datetime.date(2019, 8, 12), 1, 5, 0, 17, 3, 0), (67, datetime.date(2019, 7, 23), 0, 4, 0, 7, 3, 0), (68, datetime.date(2019, 9, 8), 1, 0, 0, 19, 3, 0), (69, datetime.date(2019, 8, 9), 2, 2, 0, 20, 3, 0), (70, datetime.date(2019, 8, 3), 1, 1, 0, 5, 3, 0), (71, datetime.date(2019, 7, 21), 4, 1, 0, 14, 3, 0), (72, datetime.date(2019, 8, 3), 3, 2, 0, 24, 3, 0), (73, datetime.date(2019, 7, 20), 4, 4, 0, 15, 3, 0), (74, datetime.date(2019, 9, 3), 50, 47, 0, 11, 3, 0), (75, datetime.date(2019, 7, 31), 5, 0, 0, 7, 4, 0), (76, datetime.date(2019, 8, 19), 1, 2, 0, 21, 4, 0), (77, datetime.date(2019, 7, 21), 4, 4, 0, 9, 4, 0), (78, datetime.date(2019, 9, 6), 0, 1, 0, 19, 4, 0), (79, datetime.date(2019, 8, 25), 3, 0, 0, 14, 4, 0), (80, datetime.date(2019, 7, 17), 4, 3, 0, 4, 4, 0), (81, datetime.date(2019, 7, 28), 2, 5, 0, 13, 4, 0), (82, datetime.date(2019, 7, 23), 2, 5, 0, 22, 4, 0), (83, datetime.date(2019, 8, 14), 3, 4, 0, 6, 4, 0), (84, datetime.date(2019, 8, 29), 3, 4, 0, 20, 4, 0), (85, datetime.date(2019, 7, 29), 4, 5, 0, 18, 4, 0), (86, datetime.date(2019, 8, 5), 2, 1, 0, 25, 4, 0), (87, datetime.date(2019, 7, 17), 5, 1, 0, 15, 4, 0), (88, datetime.date(2019, 8, 14), 1, 0, 0, 16, 4, 0), (89, datetime.date(2019, 9, 4), 1, 4, 0, 8, 4, 0), (90, datetime.date(2019, 7, 22), 5, 2, 0, 17, 4, 0), (91, datetime.date(2019, 9, 9), 5, 2, 0, 12, 4, 0), (92, datetime.date(2019, 8, 25), 5, 0, 0, 11, 4, 0), (93, datetime.date(2019, 8, 10), 0, 3, 0, 2, 4, 0), (94, datetime.date(2019, 9, 5), 4, 3, 0, 3, 4, 0), (95, datetime.date(2019, 8, 16), 2, 1, 0, 5, 4, 0), (96, datetime.date(2019, 8, 12), 3, 3, 0, 23, 4, 0), (97, datetime.date(2019, 8, 28), 37, 40, 0, 1, 4, 0), (98, datetime.date(2019, 7, 24), 1, 2, 0, 19, 5, 1), (99, datetime.date(2019, 8, 28), 5, 2, 0, 7, 5, 0), (100, datetime.date(2019, 8, 4), 5, 0, 0, 16, 5, 0), (101, datetime.date(2019, 9, 2), 2, 1, 0, 23, 5, 0), (102, datetime.date(2019, 7, 13), 5, 3, 0, 24, 5, 0), (103, datetime.date(2019, 8, 1), 1, 0, 0, 11, 5, 0), (104, datetime.date(2019, 7, 19), 1, 2, 0, 10, 5, 0), (105, datetime.date(2019, 9, 1), 4, 3, 0, 12, 5, 0), (106, datetime.date(2019, 9, 3), 3, 5, 0, 1, 5, 0), (107, datetime.date(2019, 7, 20), 5, 3, 0, 9, 5, 0), (108, datetime.date(2019, 9, 6), 5, 5, 0, 14, 5, 0), (109, datetime.date(2019, 7, 27), 4, 0, 0, 2, 5, 0), (110, datetime.date(2019, 9, 10), 0, 5, 0, 20, 5, 0), (111, datetime.date(2019, 8, 15), 3, 4, 0, 21, 5, 0), (112, datetime.date(2019, 8, 21), 2, 4, 0, 6, 5, 0), (113, datetime.date(2019, 8, 6), 3, 2, 0, 15, 5, 0), (114, datetime.date(2019, 8, 2), 4, 4, 0, 3, 5, 0), (115, datetime.date(2019, 8, 12), 5, 3, 0, 8, 5, 0), (116, datetime.date(2019, 8, 8), 5, 0, 0, 5, 5, 0), (117, datetime.date(2019, 8, 28), 1, 1, 0, 25, 5, 0), (118, datetime.date(2019, 9, 1), 1, 0, 0, 4, 5, 0), (119, datetime.date(2019, 8, 8), 1, 4, 0, 17, 5, 0), (120, datetime.date(2019, 8, 28), 3, 1, 0, 13, 5, 0), (121, datetime.date(2019, 9, 3), 0, 4, 0, 18, 5, 0), (122, datetime.date(2019, 9, 2), 40, 38, 0, 22, 5, 0), (123, datetime.date(2019, 9, 10), 3, 2, 0, 6, 6, 0), (124, datetime.date(2019, 7, 27), 1, 0, 0, 18, 6, 0), (125, datetime.date(2019, 7, 23), 0, 4, 0, 25, 6, 0), (126, datetime.date(2019, 7, 21), 5, 2, 0, 5, 6, 0), (127, datetime.date(2019, 7, 24), 2, 4, 0, 19, 6, 0), (128, datetime.date(2019, 7, 28), 4, 5, 0, 1, 6, 0), (129, datetime.date(2019, 7, 19), 2, 1, 0, 4, 6, 0), (130, datetime.date(2019, 8, 9), 1, 3, 0, 3, 6, 0), (131, datetime.date(2019, 8, 10), 3, 5, 0, 9, 6, 0), (132, datetime.date(2019, 8, 19), 1, 0, 0, 16, 6, 0), (133, datetime.date(2019, 7, 18), 0, 2, 0, 12, 6, 0), (134, datetime.date(2019, 7, 17), 2, 3, 0, 2, 6, 0), (135, datetime.date(2019, 7, 24), 5, 3, 0, 10, 6, 0), (136, datetime.date(2019, 7, 17), 2, 4, 0, 20, 6, 0), (137, datetime.date(2019, 8, 11), 0, 3, 0, 15, 6, 0), (138, datetime.date(2019, 8, 22), 2, 1, 0, 14, 6, 0), (139, datetime.date(2019, 8, 13), 3, 3, 0, 13, 6, 0), (140, datetime.date(2019, 8, 16), 3, 4, 0, 23, 6, 0), (141, datetime.date(2019, 8, 25), 5, 4, 0, 11, 6, 0), (142, datetime.date(2019, 9, 11), 3, 4, 0, 17, 6, 0), (143, datetime.date(2019, 7, 17), 2, 3, 0, 22, 6, 0), (144, datetime.date(2019, 8, 12), 4, 1, 0, 7, 6, 0), (145, datetime.date(2019, 8, 26), 37, 36, 0, 21, 6, 1), (146, datetime.date(2017, 8, 28), 1, 0, 0, 3, 7, 1), (147, datetime.date(2017, 9, 20), 4, 5, 0, 16, 7, 1), (148, datetime.date(2017, 8, 24), 3, 4, 0, 6, 7, 1), (149, datetime.date(2017, 9, 23), 1, 3, 0, 15, 7, 1), (150, datetime.date(2017, 10, 9), 5, 1, 0, 18, 7, 1), (151, datetime.date(2017, 10, 2), 1, 3, 0, 20, 7, 1), (152, datetime.date(2017, 8, 26), 2, 1, 0, 4, 7, 1), (153, datetime.date(2017, 10, 3), 0, 2, 0, 23, 7, 1), (154, datetime.date(2017, 9, 13), 2, 1, 0, 1, 7, 1), (155, datetime.date(2017, 8, 28), 2, 1, 0, 8, 7, 1), (156, datetime.date(2017, 10, 14), 3, 0, 0, 19, 7, 1), (157, datetime.date(2017, 10, 1), 4, 5, 0, 22, 7, 1), (158, datetime.date(2017, 8, 29), 2, 2, 0, 12, 7, 1), (159, datetime.date(2017, 10, 6), 2, 1, 0, 5, 7, 1), (160, datetime.date(2017, 9, 10), 2, 1, 0, 7, 7, 1), (161, datetime.date(2017, 10, 7), 4, 4, 0, 11, 7, 1), (162, datetime.date(2017, 9, 14), 0, 2, 0, 21, 7, 1), (163, datetime.date(2017, 9, 28), 3, 4, 0, 13, 7, 1), (164, datetime.date(2017, 9, 12), 1, 1, 0, 24, 7, 1), (165, datetime.date(2017, 8, 28), 5, 0, 0, 2, 7, 1), (166, datetime.date(2017, 8, 24), 3, 0, 0, 25, 7, 1), (167, datetime.date(2017, 9, 19), 1, 4, 0, 10, 7, 1), (168, datetime.date(2017, 10, 7), 3, 4, 0, 9, 7, 1), (169, datetime.date(2017, 9, 23), 1, 4, 0, 14, 7, 1), (170, datetime.date(2017, 10, 11), 49, 53, 0, 17, 7, 1), (171, datetime.date(2017, 8, 20), 1, 2, 0, 17, 8, 0), (172, datetime.date(2017, 8, 18), 4, 0, 0, 20, 8, 0), (173, datetime.date(2017, 10, 4), 1, 2, 0, 24, 8, 0), (174, datetime.date(2017, 9, 13), 0, 2, 0, 15, 8, 0), (175, datetime.date(2017, 10, 12), 0, 4, 0, 25, 8, 0), (176, datetime.date(2017, 9, 12), 0, 2, 0, 7, 8, 0), (177, datetime.date(2017, 8, 17), 2, 4, 0, 9, 8, 0), (178, datetime.date(2017, 10, 5), 0, 4, 0, 13, 8, 0), (179, datetime.date(2017, 9, 20), 1, 0, 0, 12, 8, 1), (180, datetime.date(2017, 10, 15), 0, 4, 0, 21, 8, 0), (181, datetime.date(2017, 9, 8), 1, 1, 0, 6, 8, 0), (182, datetime.date(2017, 8, 26), 2, 0, 0, 22, 8, 0), (183, datetime.date(2017, 9, 8), 1, 2, 0, 18, 8, 0), (184, datetime.date(2017, 9, 2), 0, 2, 0, 19, 8, 0), (185, datetime.date(2017, 9, 10), 1, 3, 0, 16, 8, 0), (186, datetime.date(2017, 10, 12), 2, 5, 0, 1, 8, 0), (187, datetime.date(2017, 9, 14), 2, 5, 0, 11, 8, 0), (188, datetime.date(2017, 9, 9), 0, 1, 0, 8, 8, 0), (189, datetime.date(2017, 9, 15), 4, 3, 0, 2, 8, 0), (190, datetime.date(2017, 10, 7), 1, 5, 0, 23, 8, 0), (191, datetime.date(2017, 10, 2), 1, 5, 0, 4, 8, 0), (192, datetime.date(2017, 9, 25), 0, 2, 0, 5, 8, 0), (193, datetime.date(2017, 9, 25), 39, 36, 0, 10, 8, 0), (194, datetime.date(2017, 9, 26), 1, 3, 0, 9, 9, 0), (195, datetime.date(2017, 9, 28), 0, 3, 0, 19, 9, 0), (196, datetime.date(2017, 10, 12), 5, 5, 0, 2, 9, 0), (197, datetime.date(2017, 9, 24), 0, 3, 0, 7, 9, 0), (198, datetime.date(2017, 9, 13), 0, 4, 0, 21, 9, 0), (199, datetime.date(2017, 8, 29), 2, 2, 0, 16, 9, 1), (200, datetime.date(2017, 9, 5), 0, 1, 0, 5, 9, 0), (201, datetime.date(2017, 9, 5), 0, 5, 0, 11, 9, 0), (202, datetime.date(2017, 9, 5), 1, 5, 0, 1, 9, 0), (203, datetime.date(2017, 10, 7), 4, 1, 0, 18, 9, 0), (204, datetime.date(2017, 9, 4), 1, 0, 0, 24, 9, 1), (205, datetime.date(2017, 9, 10), 4, 2, 0, 15, 9, 0), (206, datetime.date(2017, 10, 3), 5, 2, 0, 25, 9, 0), (207, datetime.date(2017, 8, 31), 1, 0, 0, 17, 9, 0), (208, datetime.date(2017, 10, 7), 0, 5, 0, 23, 9, 0), (209, datetime.date(2017, 8, 20), 2, 0, 0, 14, 9, 0), (210, datetime.date(2017, 8, 19), 2, 3, 0, 22, 9, 0), (211, datetime.date(2017, 9, 22), 5, 4, 0, 20, 9, 0), (212, datetime.date(2017, 10, 10), 3, 0, 0, 10, 9, 0), (213, datetime.date(2017, 9, 6), 3, 1, 0, 8, 9, 0), (214, datetime.date(2017, 8, 24), 3, 4, 0, 13, 9, 0), (215, datetime.date(2017, 8, 23), 3, 5, 0, 12, 9, 0), (216, datetime.date(2017, 9, 26), 0, 5, 0, 3, 9, 0), (217, datetime.date(2017, 10, 12), 5, 1, 0, 4, 9, 0), (218, datetime.date(2017, 10, 9), 50, 49, 0, 6, 9, 0), (219, datetime.date(2017, 7, 31), 0, 3, 0, 10, 10, 0), (220, datetime.date(2017, 6, 22), 1, 2, 0, 11, 10, 0), (221, datetime.date(2017, 7, 19), 3, 4, 0, 22, 10, 0), (222, datetime.date(2017, 7, 12), 2, 5, 0, 4, 10, 0), (223, datetime.date(2017, 6, 8), 1, 4, 0, 2, 10, 1), (224, datetime.date(2017, 7, 22), 3, 0, 0, 20, 10, 0), (225, datetime.date(2017, 8, 5), 4, 2, 0, 23, 10, 0), (226, datetime.date(2017, 7, 26), 5, 4, 0, 15, 10, 0), (227, datetime.date(2017, 6, 16), 4, 2, 0, 13, 10, 0), (228, datetime.date(2017, 6, 28), 0, 2, 0, 1, 10, 0), (229, datetime.date(2017, 7, 27), 3, 2, 0, 7, 10, 0), (230, datetime.date(2017, 8, 2), 0, 2, 0, 18, 10, 0), (231, datetime.date(2017, 7, 21), 3, 4, 0, 24, 10, 0), (232, datetime.date(2017, 7, 11), 5, 0, 0, 12, 10, 0), (233, datetime.date(2017, 6, 26), 4, 3, 0, 5, 10, 0), (234, datetime.date(2017, 7, 31), 1, 2, 0, 3, 10, 0), (235, datetime.date(2017, 6, 27), 2, 1, 0, 8, 10, 0), (236, datetime.date(2017, 6, 23), 3, 2, 0, 25, 10, 0), (237, datetime.date(2017, 7, 18), 0, 1, 0, 14, 10, 0), (238, datetime.date(2017, 6, 19), 1, 5, 0, 21, 10, 0), (239, datetime.date(2017, 6, 20), 3, 5, 0, 16, 10, 0), (240, datetime.date(2017, 7, 16), 5, 0, 0, 6, 10, 0), (241, datetime.date(2017, 6, 19), 5, 4, 0, 17, 10, 0), (242, datetime.date(2017, 6, 24), 0, 2, 0, 9, 10, 0), (243, datetime.date(2017, 6, 30), 39, 42, 0, 19, 10, 0), (244, datetime.date(2017, 7, 3), 4, 5, 0, 2, 11, 0), (245, datetime.date(2017, 6, 24), 4, 4, 0, 7, 11, 0), (246, datetime.date(2017, 8, 6), 5, 1, 0, 8, 11, 0), (247, datetime.date(2017, 8, 4), 4, 4, 0, 4, 11, 0), (248, datetime.date(2017, 7, 1), 4, 3, 0, 12, 11, 1), (249, datetime.date(2017, 7, 25), 1, 0, 0, 22, 11, 0), (250, datetime.date(2017, 7, 23), 5, 5, 0, 5, 11, 0), (251, datetime.date(2017, 6, 24), 3, 5, 0, 19, 11, 0), (252, datetime.date(2017, 8, 2), 3, 5, 0, 18, 11, 0), (253, datetime.date(2017, 6, 29), 2, 2, 0, 3, 11, 0), (254, datetime.date(2017, 6, 12), 5, 0, 0, 20, 11, 0), (255, datetime.date(2017, 8, 2), 5, 2, 0, 9, 11, 0), (256, datetime.date(2017, 7, 27), 5, 2, 0, 24, 11, 0), (257, datetime.date(2017, 8, 6), 0, 4, 0, 14, 11, 0), (258, datetime.date(2017, 7, 16), 4, 4, 0, 6, 11, 0), (259, datetime.date(2017, 7, 8), 1, 0, 0, 11, 11, 0), (260, datetime.date(2017, 6, 14), 0, 1, 0, 15, 11, 0), (261, datetime.date(2017, 6, 30), 5, 3, 0, 17, 11, 1), (262, datetime.date(2017, 8, 7), 4, 5, 0, 21, 11, 0), (263, datetime.date(2017, 7, 22), 1, 5, 0, 13, 11, 0), (264, datetime.date(2017, 7, 4), 0, 4, 0, 23, 11, 0), (265, datetime.date(2017, 7, 3), 3, 4, 0, 25, 11, 0), (266, datetime.date(2017, 7, 19), 5, 4, 0, 16, 11, 0), (267, datetime.date(2017, 8, 1), 1, 0, 0, 1, 11, 0), (268, datetime.date(2017, 6, 18), 42, 41, 0, 10, 11, 0)]\n",
      "INSERT INTO [dbo].[Payments] (Payment_Date, Amount_Paid, Reservation_ID) VALUES (2019-01-18, '3960.0', 1), (2019-01-29, '7894.259999999998', 2), (2019-01-18, '1436.75532', 3), (2019-01-16, '32.13017101791791', 5), (2019-01-16, '2288.591589556997', 5), (2019-01-15, '3584.8612799999996', 6), (2018-12-12, '5174.413199999999', 7), (2019-01-29, '195.13066383471082', 8), (2019-01-29, '55.0453825112592', 8), (2019-01-29, '58.73933789089446', 8), (2019-01-29, '4.517799061640438', 8), (2019-01-29, '11.932715102997882', 8), (2019-01-29, '2.1069067729540656', 8), (2019-01-29, '0.9172675813034544', 8), (2019-01-10, '1944.0986399999997', 11), (2019-01-28, '5021.616599999999', 12), (2019-01-22, '3234.53592', 13), (2019-01-02, '154.37642771149805', 15), (2019-01-02, '3223.7272134924046', 15), (2019-01-23, '412.2644491079534', 19), (2019-01-23, '1599.8826021409118', 19), (2019-01-03, '308.50332857142854', 20), (2019-01-07, '720.7818701091226', 21), (2019-01-07, '590.0533600948988', 21), (2019-01-07, '15.076645394215815', 21), (2019-01-07, '12.15270979742763', 21), (2019-01-07, '31.623635050404275', 21), (2019-01-28, '4310.26596', 23), (2018-12-23, '3226.0931999999993', 24), (2019-01-12, '67967.46792', 25), (2019-01-02, '335.74397116822877', 26), (2019-01-02, '58.21446919625095', 26), (2019-01-21, '1437.6599999999999', 27), (2019-01-25, '2870.6400000000003', 28), (2019-01-09, '288.0', 29), (2019-01-20, '1438.128', 30), (2019-01-20, '394.4097182004412', 32), (2019-01-20, '3.355781303980394', 32), (2019-01-20, '2.756168953283002', 32), (2019-01-20, '2.6036367036545522', 32), (2019-01-20, '0.9997630422651357', 32), (2019-01-20, '0.06948365676009638', 32), (2019-01-20, '-0.17292446492251903', 32), (2019-01-10, '2257.4700000000003', 33), (2019-01-04, '490.6490452388531', 34), (2019-01-04, '114.23029142675259', 34), (2019-01-19, '812.6670130180503', 37), (2019-01-19, '215.00226437924388', 37), (2019-01-19, '42.10890799551112', 37), (2019-01-19, '5.934058798255597', 37), (2019-01-19, '2.8026139414536018', 37), (2019-01-16, '209.61', 38), (2019-01-03, '576.0', 39), (2019-01-04, '2012.256', 40), (2019-01-10, '395.48530206768385', 43), (2019-01-10, '69.92084033227542', 43), (2019-01-10, '7.540399652914117', 43), (2019-01-10, '1.9667741449243836', 43), (2019-01-10, '4.720041125285214', 43), (2018-12-11, '1722.3840000000002', 44), (2019-01-24, '375.4394751181433', 45), (2019-01-24, '237.1080729362155', 45), (2019-01-24, '8.91085264617491', 45), (2019-01-24, '1.3864170062731882', 45), (2019-01-24, '123.06643750366324', 45), (2018-12-30, '59.74', 48), (2019-01-22, '21818.735999999997', 49), (2019-09-02, '2774.9656', 50), (2019-08-31, '225.04825102908114', 51), (2019-08-31, '471.4297611697098', 51), (2019-08-31, '299.99167084872926', 51), (2019-08-31, '4.274506669184021', 51), (2019-08-31, '115.95865898332077', 51), (2019-08-26, '1385.1684', 52), (2019-08-30, '267.90475404842834', 53), (2019-08-30, '269.8309014105197', 53), (2019-08-30, '30.49635401762331', 53), (2019-08-30, '4.600908572682547', 53), (2019-08-30, '10.369396681790684', 53), (2019-08-21, '212.2191925631238', 54), (2019-08-21, '75.74360247895875', 54), (2019-08-26, '344.08431125078243', 55), (2019-08-26, '206.646079141858', 55), (2019-08-26, '83.5479117041557', 55), (2019-08-26, '144.63080071213403', 55), (2019-08-26, '280.0665532585678', 55), (2019-08-25, '2870.1684', 56), (2019-08-13, '4785.6105', 57), (2019-09-08, '3166.68', 58), (2019-08-12, '1015.7378986114861', 59), (2019-08-12, '38.992264924568666', 59), (2019-08-12, '95.3077330740204', 59), (2019-08-12, '5.084449609093525', 59), (2019-08-12, '0.6721721187548855', 59), (2019-08-12, '0.5216409706752227', 59), (2019-08-12, '-2.507582340636577', 59), (2019-08-26, '1913.0463', 60), (2019-09-02, '409.60038356719605', 61), (2019-09-02, '464.4945674960113', 61), (2019-09-02, '1.0613884257902126', 61), (2019-09-02, '1.5121591899834201', 61), (2019-09-02, '2.7156031704457777', 61), (2019-08-11, '963.8511666666667', 62), (2019-08-05, '944.3481124192083', 64), (2019-08-05, '16.505011769520777', 64), (2019-08-05, '199.3785579722047', 64), (2019-08-05, '193.4569611497167', 64), (2019-08-05, '34.55924991554722', 64), (2019-08-05, '32.84388247601866', 64), (2019-08-05, '40.131685877039', 64), (2019-09-09, '318.0427126370503', 65), (2019-09-09, '170.97864368147486', 65), (2019-08-20, '901.0558914927079', 66), (2019-08-20, '706.4363604175011', 66), (2019-08-25, '1846.8912000000003', 67), (2019-08-16, '326.21649318847193', 69), (2019-08-16, '403.8090097416868', 69), (2019-08-16, '51.77105166871372', 69), (2019-08-16, '12.834696356575884', 69), (2019-08-16, '2.817691506539881', 69), (2019-08-16, '0.1778680323853793', 69), (2019-08-16, '-0.06014518649651217', 69), (2019-08-07, '135.81585667361074', 70), (2019-08-07, '214.5003490290149', 70), (2019-08-07, '24.95840661889682', 70), (2019-08-07, '2.2573725835812444', 70), (2019-08-07, '5.90633276803922', 70), (2019-08-07, '-1.4876491545902104', 70), (2019-08-07, '7.921195555473654', 70), (2019-08-23, '23.038918076707457', 72), (2019-08-23, '249.32926647722496', 72), (2019-08-23, '653.4813414003534', 72), (2019-08-23, '18.27363288387089', 72), (2019-08-23, '5.479176820750545', 72), (2019-08-23, '9.388901407840724', 72), (2019-08-23, '10.50663103980522', 72), (2019-09-07, '3698.4112000000005', 73), (2019-09-05, '51153.96', 74), (2019-07-22, '6266.716799999999', 77), (2019-09-07, '114.06202053256179', 78), (2019-09-07, '635.9711507218517', 78), (2019-09-10, '2736.0', 79), (2019-08-09, '1766.7301745913603', 80), (2019-08-09, '328.7544247960463', 80), (2019-08-09, '1.0091341792223294', 80), (2019-08-09, '2.4670592160620526', 80), (2019-08-09, '0.4504973215422101', 80), (2019-09-07, '5480.436', 81), (2019-09-06, '6374.879999999999', 83), (2019-09-06, '1931.4987088635175', 84), (2019-09-06, '109.84535339957588', 84), (2019-09-06, '167.72848694050262', 84), (2019-09-06, '259.96610230570974', 84), (2019-09-06, '4.740240187519015', 84), (2019-09-06, '181.09742735389554', 84), (2019-09-06, '0.6618404746397317', 84), (2019-09-08, '2350.9991999999997', 86), (2019-08-17, '4321.0788', 87), (2019-08-15, '134.1666918343863', 88), (2019-08-15, '589.9999395974728', 88), (2019-09-07, '207.95208742359225', 89), (2019-09-07, '4051.7949901833786', 89), (2019-09-10, '6379.44', 91), (2019-09-05, '1347.4164055485903', 92), (2019-09-05, '442.96686476251847', 92), (2019-09-05, '25.280852987891087', 92), (2019-09-05, '-59.25547115885022', 92), (2019-09-05, '56.897149974432054', 92), (2019-09-05, '52.18914255731767', 92), (2019-09-05, '82.81213278744148', 92), (2019-09-03, '2733.72', 95), (2019-09-08, '1837.1000056403598', 96), (2019-09-08, '180.5925399295939', 96), (2019-09-08, '124.02416248053756', 96), (2019-09-08, '129.07744142101964', 96), (2019-09-08, '15.25404126837418', 96), (2019-09-02, '12097.210377443163', 97), (2019-09-02, '15915.022382981924', 97), (2019-09-02, '277.9087975565412', 97), (2019-09-02, '895.409927147661', 97), (2019-09-02, '23.617644328358544', 97), (2019-09-02, '8.189938369992927', 97), (2019-09-02, '11.138237213660537', 97), (2019-09-06, '57.95120724949616', 98), (2019-09-06, '304.16538478352584', 98), (2019-09-06, '2.360524010863478', 98), (2019-09-06, '10.140788691118047', 98), (2019-09-06, '49.73302863599157', 98), (2019-09-06, '3357.6', 99), (2019-09-04, '1438.8', 101), (2019-08-26, '2532.024', 102), (2019-08-12, '61.26431191519071', 103), (2019-08-12, '169.76565140354228', 103), (2019-07-22, '339.0570769597007', 104), (2019-07-22, '28.141461520149676', 104), (2019-09-04, '3356.4', 105), (2019-09-08, '545.7475259691192', 106), (2019-09-08, '99.86905787384478', 106), (2019-09-08, '513.4446669314973', 106), (2019-09-08, '418.1300323676872', 106), (2019-09-08, '48.74092045884385', 106), (2019-08-07, '1267.2', 109), (2019-09-11, '2394.0', 110), (2019-08-27, '2784.816', 111), (2019-08-31, '196.43317270167918', 112), (2019-08-31, '235.57929831503589', 112), (2019-08-31, '280.0826689577552', 112), (2019-08-31, '117.06613338796411', 112), (2019-08-31, '158.06010224116994', 112), (2019-08-31, '1.5635608824513678', 112), (2019-08-31, '13.3321524334663', 112), (2019-09-06, '1582.416', 113), (2019-08-25, '2531.232', 114), (2019-08-21, '472.9245206610332', 116), (2019-08-21, '202.86796273644333', 116), (2019-08-21, '27.11312559966667', 116), (2019-08-21, '19.235410839596966', 116), (2019-08-21, '47.00032245923355', 116), (2019-08-21, '2.069776061665987', 116), (2019-08-21, '141.09331594166463', 116), (2019-08-31, '133.16666666666666', 117), (2019-09-01, '90.48218941974862', 118), (2019-09-01, '262.8427453926033', 118), (2019-08-26, '1988.0159999999996', 119), (2019-09-10, '1663.7395600020234', 123), (2019-09-10, '442.5850559951441', 123), (2019-08-29, '692.64', 124), (2019-07-29, '2763.6336', 125), (2019-08-08, '378.2793529665722', 126), (2019-08-08, '3937.1463528802265', 126), (2019-08-20, '6225.102', 128), (2019-09-02, '3025.3568', 130), (2019-09-08, '769.1214780472579', 131), (2019-09-08, '93.47292753338755', 131), (2019-09-08, '1134.4200727575962', 131), (2019-09-08, '316.5948747868967', 131), (2019-09-08, '78.68075131270707', 131), (2019-09-08, '43.52073133337718', 131), (2019-09-08, '206.66199414906504', 131), (2019-08-22, '790.32', 132), (2019-09-08, '382.164781445072', 133), (2019-09-08, '464.6213245318274', 133), (2019-08-25, '3458.0052', 134), (2019-08-20, '1191.8211927190916', 135), (2019-08-20, '2675.5543374741806', 135), (2019-08-13, '2267.5968000000003', 137), (2019-09-11, '2661.78', 138), (2019-09-07, '937.6213684952023', 141), (2019-09-07, '429.0044358903139', 141), (2019-09-07, '1714.0262437114243', 141), (2019-09-07, '184.605008332204', 141), (2019-09-07, '146.50306457005374', 141), (2019-08-17, '703.3945863114398', 143), (2019-08-17, '434.8326809455027', 143), (2019-08-17, '179.60943580644013', 143), (2019-08-17, '47.839667785275836', 143), (2019-08-17, '56.30582321210735', 143), (2019-08-17, '3.253865100580671', 143), (2019-08-17, '37.43865801276883', 143), (2019-09-12, '3786.9056', 144), (2019-09-10, '-25227.067461208087', 145), (2019-09-10, '51324.25156473242', 145), (2019-09-10, '126.81385529690897', 145), (2019-09-10, '488.23160801957744', 145), (2019-09-10, '634.729039582041', 145), (2017-09-26, '624.08', 146), (2017-09-21, '22.660585878201577', 147), (2017-09-21, '1028.4601017943216', 147), (2017-09-21, '1109.3812270214887', 147), (2017-09-21, '136.83445335920018', 147), (2017-09-21, '739.6047166722906', 147), (2017-10-06, '2777.5271999999995', 149), (2017-10-14, '1739.101', 150), (2017-10-14, '2777.5271999999995', 151), (2017-08-26, '1870.3053519999999', 152), (2017-10-08, '299.677874481569', 153), (2017-10-08, '180.19400913093946', 153), (2017-10-08, '70.49803887748205', 153), (2017-10-08, '5.184111920426867', 153), (2017-10-08, '18.11793690654973', 153), (2017-10-08, '4.113631305350955', 153), (2017-10-08, '0.9993537064366407', 153), (2017-09-13, '794.2833621901885', 154), (2017-09-13, '17.909544743547393', 154), (2017-10-10, '68.89054348011487', 155), (2017-10-10, '1704.9680476477245', 155), (2017-10-14, '2088.0', 156), (2017-10-13, '2408.7662335632294', 157), (2017-10-13, '472.1730394482496', 157), (2017-09-11, '2492.4507040000003', 158), (2017-10-13, '2085.8424', 159), (2017-10-11, '448.4732671254298', 160), (2017-10-11, '235.22274067477517', 160), (2017-10-11, '5.251980293842708', 160), (2017-10-11, '64.68982375326934', 160), (2017-10-11, '61.57460356643921', 160), (2017-10-10, '6.359752141788778', 162), (2017-10-10, '155.71107699962485', 162), (2017-10-10, '248.0332600026563', 162), (2017-10-10, '77.53269173939051', 162), (2017-10-10, '45.28829808543252', 162), (2017-10-10, '-0.8300384707332146', 162), (2017-10-10, '3.111130804416423', 162), (2017-09-30, '4863.3696', 163), (2017-10-07, '346.51095838362687', 164), (2017-10-07, '450.50331387929543', 164), (2017-10-14, '3120.4', 165), (2017-10-03, '5.9447075383529135', 166), (2017-10-03, '150.22589096205363', 166), (2017-10-03, '260.97370021816374', 166), (2017-10-03, '-226.37523151249886', 166), (2017-10-03, '1306.5142387054284', 166), (2017-10-08, '3202.3384559999995', 167), (2017-09-27, '3471.3696', 169), (2017-10-12, '70877.6472', 170), (2017-09-24, '1099.3233599999999', 171), (2017-10-07, '353.08249884016107', 172), (2017-10-07, '113.02064149494593', 172), (2017-10-07, '34.6327649447213', 172), (2017-10-07, '53.47562341736148', 172), (2017-10-07, '138.69233112674448', 172), (2017-10-09, '1293.3216', 173), (2017-10-15, '796.72248', 176), (2017-08-26, '2198.6467199999997', 177), (2017-10-12, '1722.6432', 178), (2017-10-16, '252.79689647061016', 180), (2017-10-16, '1115.9306484705357', 180), (2017-09-19, '797.96124', 181), (2017-09-18, '799.1999999999999', 182), (2017-09-27, '194.6590273623382', 183), (2017-09-27, '729.1408143303885', 183), (2017-09-11, '1594.68372', 185), (2017-10-13, '885.1701228356167', 186), (2017-10-13, '65.05785851275388', 186), (2017-10-13, '86.17227872982893', 186), (2017-10-13, '38.10148060629372', 186), (2017-10-13, '78.84324124068806', 186), (2017-10-13, '10.473675537767948', 186), (2017-10-13, '224.139222088922', 186), (2017-10-03, '1162.9192500000001', 187), (2017-10-15, '153.88714285714286', 190), (2017-10-11, '518.2216495974008', 191), (2017-10-11, '498.3006190982308', 191), (2017-10-11, '30.515875347518058', 191), (2017-10-11, '23.81256222779036', 191), (2017-10-11, '15.262304949744125', 191), (2017-10-12, '7119.087689992469', 193), (2017-10-12, '13648.388904018075', 193), (2017-10-12, '3594.4199999999996', 196), (2017-09-28, '74.97594298423513', 197), (2017-09-28, '654.4630368378357', 197), (2017-10-04, '238.48648859726998', 198), (2017-10-04, '34.95581488131148', 198), (2017-10-04, '3.309036981610969', 198), (2017-10-04, '41.259141554857386', 198), (2017-10-04, '7.967499761355528', 198), (2017-10-04, '1.5664474241377844', 198), (2017-10-04, '3.4381699186965666', 198), (2017-09-05, '48.756979888506756', 200), (2017-09-05, '1.2077309316875544', 200), (2017-09-05, '15.14664793953639', 200), (2017-09-05, '6.855657888158916', 200), (2017-09-05, '24.665360045064933', 200), (2017-09-10, '986.9309999999999', 201), (2017-09-11, '425.4009811959196', 202), (2017-09-11, '163.96864512979295', 202), (2017-10-09, '27.08422610331619', 204), (2017-10-09, '13.608547445272917', 204), (2017-10-09, '8.99629564414056', 204), (2017-10-09, '12.945196028076362', 204), (2017-10-09, '19.837059672509834', 204), (2017-10-09, '0.97075685028705', 204), (2017-10-09, '-2.2609961846469915', 204), (2017-10-16, '106.05822695596652', 205), (2017-10-16, '932.2326553056803', 205), (2017-10-06, '558.3371861402305', 206), (2017-10-06, '244.82335868063473', 206), (2017-10-06, '-9.311783603428697', 206), (2017-10-06, '97.54946062803427', 206), (2017-10-06, '0.7470675708698536', 206), (2017-09-24, '198.0', 207), (2017-10-12, '212.45621610618434', 208), (2017-10-12, '207.49472169070623', 208), (2017-10-12, '119.77980681268816', 208), (2017-10-12, '-112.70222848244185', 208), (2017-10-12, '37.268180139156996', 208), (2017-10-12, '38.297644163331206', 208), (2017-10-12, '386.3213329688997', 208), (2017-09-28, '46.13023449056416', 209), (2017-09-28, '95.60779832239461', 209), (2017-09-28, '20.22688544718804', 209), (2017-09-28, '2.01694985718277', 209), (2017-09-28, '1.0156563363725029', 209), (2017-09-28, '-0.09219669469863767', 209), (2017-09-28, '0.227213378391715', 209), (2017-10-15, '339.4529268008319', 212), (2017-10-15, '265.3129756780034', 212), (2017-09-18, '134.59836099542318', 214), (2017-09-18, '406.8773227849232', 214), (2017-09-18, '27.838854324664727', 214), (2017-09-18, '3.021343853976185', 214), (2017-09-18, '9.938683298430526', 214), (2017-08-31, '586.7912230957689', 215), (2017-08-31, '55.382995532666165', 215), (2017-08-31, '1.8454182973551718', 215), (2017-08-31, '10.592726938487823', 215), (2017-08-31, '9.861326725732686', 215), (2017-10-04, '54.44263765161832', 216), (2017-10-04, '1260.0131696361161', 216), (2017-10-17, '2158.884', 217), (2017-08-05, '2220.3936', 219), (2017-07-12, '127.41051527990074', 220), (2017-07-12, '1273.4410673282382', 220), (2017-07-23, '10.090240149106876', 221), (2017-07-23, '1610.2723408876857', 221), (2017-07-23, '467.75040878166345', 221), (2017-07-23, '51.1402076535968', 221), (2017-07-23, '10.44787825631805', 221), (2017-07-23, '5.700799262282256', 221), (2017-07-23, '19.560300022432276', 221), (2017-08-01, '4436.30088', 222), (2017-07-31, '2630.212608', 223), (2017-08-07, '2232.0', 224), (2017-08-07, '1459.3363509160504', 225), (2017-08-07, '361.40742270491825', 225), (2017-08-07, '9.129477990935841', 225), (2017-08-07, '14.171276466882025', 225), (2017-08-07, '11.821551366068185', 225), (2017-08-07, '0.9722039248009202', 225), (2017-08-07, '-0.1494800871732668', 225), (2017-07-07, '1318.31096', 227), (2017-07-29, '1497.1092856770565', 229), (2017-07-29, '37.3254523578237', 229), (2017-07-29, '10.444275251154266', 229), (2017-07-29, '1.4528943123548805', 229), (2017-07-29, '0.22204620080535775', 229), (2017-08-02, '1480.2624', 230), (2017-07-21, '5192.5248', 231), (2017-07-17, '-41.30118560539111', 232), (2017-07-17, '20.531387668924722', 232), (2017-07-17, '766.750461532355', 232), (2017-07-17, '108.87792989364627', 232), (2017-07-17, '1128.9393756251163', 232), (2017-07-11, '291.3360414584043', 233), (2017-07-11, '2990.232956499829', 233), (2017-08-06, '2224.2624', 234), (2017-08-07, '862.8678520905609', 236), (2017-08-07, '131.52053992300864', 236), (2017-08-07, '6.6195160298617655', 236), (2017-08-07, '79.3936789878441', 236), (2017-08-07, '3.3759967524434766', 236), (2017-08-07, '1.9456295444362517', 236), (2017-08-07, '29.970592012427492', 236), (2017-07-25, '216.33854963543777', 237), (2017-07-25, '7.404282961673031', 237), (2017-07-25, '16.421565006583556', 237), (2017-07-25, '12.60442805805377', 237), (2017-07-25, '2.725728584562967', 237), (2017-07-16, '162.8640420866289', 238), (2017-07-16, '1072.488799964639', 238), (2017-07-16, '27.137850404827883', 238), (2017-07-16, '26.93145020111891', 238), (2017-07-16, '15.078631286259277', 238), (2017-07-16, '4.836435409046677', 238), (2017-07-16, '13.296457553950937', 238), (2017-06-26, '1622.6452485348298', 239), (2017-06-26, '4.179029929460819', 239), (2017-06-26, '11.387456618895328', 239), (2017-06-26, '23.678481544729937', 239), (2017-06-26, '70.23965740650351', 239), (2017-06-26, '18.23550290273941', 239), (2017-06-26, '11.308855350818712', 239), (2017-06-27, '4743.172608', 241), (2017-07-27, '15298.936111971816', 243), (2017-07-27, '4278.390285493142', 243), (2017-07-27, '-847.2349101027472', 243), (2017-07-27, '318.93169107034095', 243), (2017-07-27, '640.6042365861745', 243), (2017-07-27, '-105.66050633544093', 243), (2017-07-27, '4385.27081116012', 243), (2017-08-01, '2767.5815999999995', 244), (2017-08-01, '2254.9219200000002', 245), (2017-08-06, '2158.128', 246), (2017-08-04, '459.7183562058219', 247), (2017-08-04, '351.6622656430359', 247), (2017-08-04, '121.9675936465127', 247), (2017-08-04, '17.076264031420052', 247), (2017-08-04, '591.493249135703', 247), (2017-07-27, '4.838066180643974', 248), (2017-07-27, '44.33561424560134', 248), (2017-07-27, '200.66176263915486', 248), (2017-07-27, '573.8089790868592', 248), (2017-07-27, '177.2423468345778', 248), (2017-08-03, '360.0', 249), (2017-07-27, '549.0134068875915', 250), (2017-07-27, '268.18438384684504', 250), (2017-07-27, '7.484834295774951', 250), (2017-07-27, '39.17903208203898', 250), (2017-07-27, '1517.3720229305989', 250), (2017-07-19, '2253.4523999999997', 251), (2017-08-08, '2870.64', 252), (2017-07-06, '366.3761743315822', 254), (2017-07-06, '192.15833531220872', 254), (2017-07-06, '29.1428559416843', 254), (2017-07-06, '1.0122808470102667', 254), (2017-07-06, '0.49462347773179205', 254), (2017-07-06, '0.4804562023889135', 254), (2017-07-06, '-2.195342670254875', 254), (2017-08-08, '91.82348600022834', 255), (2017-08-08, '435.10855248751636', 255), (2017-08-08, '287.81355874280337', 255), (2017-08-08, '59.53587375481328', 255), (2017-08-08, '119.39772284205088', 255), (2017-08-08, '36.785229087952324', 255), (2017-08-08, '43.14138500312533', 255), (2017-08-08, '2516.256', 256), (2017-08-07, '1432.512', 257), (2017-08-06, '2563.71696', 258), (2017-07-26, '308.4', 259), (2017-07-15, '16.733957142857143', 260), (2017-08-07, '1170.6746094259768', 262), (2017-08-07, '69.90978469560088', 262), (2017-08-07, '10.947206891172028', 262), (2017-08-07, '80.8337763436372', 262), (2017-08-07, '32.96309434467128', 262), (2017-07-28, '122.08332491325135', 263), (2017-07-28, '307.6558720309583', 263), (2017-07-28, '7.409778405619622', 263), (2017-07-28, '195.43781662487035', 263), (2017-07-28, '242.57265819525625', 263), (2017-07-28, '11.811642629831374', 263), (2017-07-28, '21.909377280510657', 263), (2017-07-31, '143.58805601020103', 264), (2017-07-31, '91.23738191211018', 264), (2017-07-31, '230.5600171772263', 264), (2017-07-31, '1.4983712516588208', 264), (2017-07-31, '22.22168682440183', 264), (2017-07-23, '167.09313000434702', 265), (2017-07-23, '384.47185395082437', 265), (2017-07-23, '71.67841612468298', 265), (2017-07-23, '-210.91730587608464', 265), (2017-07-23, '100.48341470678821', 265), (2017-07-23, '34.73163165156148', 265), (2017-07-23, '838.2865426509135', 265), (2017-08-04, '3232.512', 266), (2017-08-05, '48.42303889524111', 267), (2017-08-05, '243.7847066514213', 267), (2017-07-17, '2078.685095807273', 268), (2017-07-17, '-2027.0199114342429', 268), (2017-07-17, '6957.268687618126', 268), (2017-07-17, '2129.048289486683', 268), (2017-07-17, '1464.3924924531868', 268)\n"
     ]
    }
   ],
   "source": [
    "print(payments())"
   ]
  },
  {
   "cell_type": "code",
   "execution_count": null,
   "metadata": {},
   "outputs": [],
   "source": []
  },
  {
   "cell_type": "code",
   "execution_count": 420,
   "metadata": {},
   "outputs": [
    {
     "name": "stdout",
     "output_type": "stream",
     "text": [
      "INSERT INTO [dbo].[Workshop_Reservation] (Reservation_ID, Workshop_ID, Conference_Day_ID, Ticket_Count,Is_Cancelled) VALUES (123, 1, 6, 1, 0), (75, 2, 4, 1, 0), (123, 3, 6, 1, 0), (1, 4, 1, 1, 0), (1, 5, 1, 1, 0), (146, 6, 7, 1, 1), (146, 7, 7, 1, 1), (147, 7, 7, 1, 1), (98, 8, 5, 1, 1), (99, 8, 5, 1, 0), (171, 9, 8, 1, 0), (172, 9, 8, 1, 1), (1, 10, 1, 1, 0), (2, 10, 1, 1, 1), (171, 11, 8, 1, 0), (172, 11, 8, 1, 0), (1, 12, 1, 1, 0), (2, 12, 1, 1, 0), (1, 13, 1, 1, 1), (2, 13, 1, 1, 0), (75, 14, 4, 1, 0), (76, 14, 4, 1, 0), (146, 15, 7, 1, 1), (147, 15, 7, 1, 1), (171, 16, 8, 1, 0), (172, 16, 8, 1, 0), (75, 17, 4, 1, 0), (76, 17, 4, 1, 0), (50, 18, 3, 1, 0), (98, 19, 5, 1, 1), (99, 19, 5, 1, 0), (1, 20, 1, 1, 0), (2, 20, 1, 1, 0), (3, 20, 1, 1, 0), (146, 21, 7, 1, 1), (147, 21, 7, 1, 1), (148, 21, 7, 1, 1), (123, 22, 6, 1, 0), (124, 22, 6, 1, 0), (125, 22, 6, 1, 0), (1, 23, 1, 1, 0), (2, 23, 1, 1, 0), (3, 23, 1, 1, 0), (1, 24, 1, 1, 0), (2, 24, 1, 1, 0), (3, 24, 1, 1, 0), (75, 25, 4, 1, 0), (76, 25, 4, 1, 0), (77, 25, 4, 1, 0), (146, 26, 7, 1, 1), (147, 26, 7, 1, 1), (148, 26, 7, 1, 1), (1, 27, 1, 1, 0), (2, 27, 1, 1, 0), (3, 27, 1, 1, 0), (4, 27, 1, 1, 0), (123, 28, 6, 1, 0), (124, 28, 6, 1, 0), (125, 28, 6, 1, 0), (126, 28, 6, 1, 0), (98, 29, 5, 1, 1), (99, 29, 5, 1, 1), (100, 29, 5, 1, 1), (101, 29, 5, 1, 0), (1, 30, 1, 1, 0), (2, 30, 1, 1, 0), (3, 30, 1, 1, 0), (4, 30, 1, 1, 0), (146, 31, 7, 1, 1), (147, 31, 7, 1, 1), (148, 31, 7, 1, 1), (149, 31, 7, 1, 1), (75, 32, 4, 1, 0), (76, 32, 4, 1, 0), (77, 32, 4, 1, 0), (78, 32, 4, 1, 0), \n"
     ]
    }
   ],
   "source": [
    "print(workshops_bookings())"
   ]
  },
  {
   "cell_type": "code",
   "execution_count": 421,
   "metadata": {},
   "outputs": [
    {
     "name": "stdout",
     "output_type": "stream",
     "text": [
      "INSERT INTO [dbo].[Conference_Day_Participant] (Person_ID, Reservation_ID, Student) VALUES (3, 1, 0), (19, 1, 0), (15, 1, 0), (5, 1, 0), (6, 1, 0)(1, 2, 0), (12, 2, 0), (13, 2, 0), (20, 2, 0), (3, 2, 0), (2, 2, 1), (1, 2, 1)(17, 3, 0), (1, 3, 1)(2, 4, 0), (5, 4, 0), (20, 4, 0), (11, 4, 0), (2, 4, 1), (1, 4, 1)(8, 5, 0), (1, 5, 1), (2, 5, 1)(20, 6, 0), (1, 6, 1), (2, 6, 1)(5, 7, 0), (6, 7, 0), (9, 7, 0), (1, 7, 1), (2, 7, 1)(1, 8, 1)(9, 9, 0), (20, 9, 0), (13, 9, 0), (18, 9, 0), (10, 9, 0), (2, 9, 1), (1, 9, 1)(14, 10, 0), (2, 10, 1), (1, 10, 1)(1, 11, 0), (12, 11, 0), (1, 11, 1)(11, 12, 0), (20, 12, 0), (1, 12, 1), (2, 12, 1)(11, 13, 0), (13, 13, 0), (2, 13, 1), (1, 13, 1)(2, 14, 1), (1, 14, 1)(16, 15, 0), (18, 15, 0), (14, 15, 0), (1, 15, 1), (2, 15, 1)(14, 16, 0), (2, 16, 1), (1, 16, 1)(1, 17, 1), (2, 17, 1)(13, 18, 0), (11, 18, 0), (7, 18, 0), (2, 18, 0), (5, 18, 0), (2, 18, 1), (1, 18, 1)(17, 19, 0), (12, 19, 0), (2, 19, 1), (1, 19, 1)(17, 20, 0), (13, 20, 0), (1, 20, 1), (2, 20, 1)(9, 21, 0), (3, 21, 0), (1, 21, 0), (5, 21, 0), (2, 21, 1)(18, 22, 0)(20, 23, 0), (2, 23, 0), (4, 23, 0), (2, 23, 1), (1, 23, 1)(2, 24, 1), (1, 24, 1)(17, 25, 0), (6, 25, 0), (14, 25, 0), (1, 25, 0), (18, 25, 0), (2, 25, 0), (9, 25, 0), (10, 25, 0), (11, 25, 0), (4, 25, 0), (20, 25, 0), (12, 25, 0), (16, 25, 0), (7, 25, 0), (13, 25, 0), (19, 25, 0), (3, 25, 0), (15, 25, 0), (5, 25, 0), (8, 25, 0), (2, 25, 1), (1, 25, 1)(5, 26, 0), (6, 26, 0)(1, 27, 0), (17, 27, 0), (20, 27, 0), (1, 27, 1)(11, 28, 0), (8, 28, 0), (1, 28, 0), (7, 28, 0), (6, 28, 0), (1, 28, 1), (2, 28, 1)(3, 29, 0)(11, 30, 0), (13, 30, 0), (9, 30, 0), (14, 30, 0), (1, 30, 1)(2, 31, 0), (7, 31, 0), (20, 31, 0), (5, 31, 0), (18, 31, 0), (1, 31, 1), (2, 31, 1)(2, 32, 0), (13, 32, 0), (1, 32, 1)(2, 33, 0), (14, 33, 0), (2, 33, 1), (1, 33, 1)(19, 34, 0), (3, 34, 0), (1, 34, 1), (2, 34, 1)(13, 35, 0), (1, 35, 1), (2, 35, 1)(9, 36, 0), (8, 36, 0), (11, 36, 0), (6, 36, 0)(4, 37, 0), (18, 37, 0), (7, 37, 0), (9, 37, 0), (16, 37, 0), (2, 37, 1), (1, 37, 1)(10, 38, 0), (16, 38, 0), (18, 38, 0), (2, 38, 0), (14, 38, 0), (1, 38, 1), (2, 38, 1)(14, 39, 0), (4, 39, 0)(10, 40, 0), (1, 40, 0), (11, 40, 0), (16, 40, 0), (5, 40, 0), (2, 40, 1), (1, 40, 1)(7, 41, 0), (3, 41, 0), (5, 41, 0), (10, 41, 0), (20, 41, 0), (2, 41, 1), (1, 41, 1)(16, 42, 0), (1, 42, 0), (9, 42, 0), (2, 42, 1), (1, 42, 1)(2, 43, 1), (1, 43, 1)(9, 44, 0), (4, 44, 0), (8, 44, 0), (1, 44, 1), (2, 44, 1)(1, 45, 0), (18, 45, 0), (20, 45, 0), (14, 45, 0), (2, 45, 1)(1, 46, 1), (2, 46, 1)(11, 47, 0), (14, 47, 0), (19, 47, 0), (6, 47, 0), (1, 47, 1)(8, 48, 0), (1, 48, 1), (2, 48, 1)(7, 49, 0), (11, 49, 0), (10, 49, 0), (13, 49, 0), (12, 49, 0), (8, 49, 0), (16, 49, 0), (19, 49, 0), (20, 49, 0), (15, 49, 0), (4, 49, 0), (18, 49, 0), (17, 49, 0), (6, 49, 0), (14, 49, 0), (3, 49, 0), (5, 49, 0), (9, 49, 0), (2, 49, 0), (1, 49, 0), (2, 49, 1), (1, 49, 1)(14, 50, 0), (20, 50, 0), (8, 50, 0), (13, 50, 0), (1, 50, 1), (2, 50, 1)(7, 51, 0), (13, 51, 0), (6, 51, 0), (20, 51, 0), (2, 51, 1), (1, 51, 1)(1, 52, 1), (2, 52, 1)(1, 53, 1), (2, 53, 1)(20, 54, 0), (2, 54, 1)(14, 55, 0), (9, 55, 0), (20, 55, 0), (2, 55, 1), (1, 55, 1)(19, 56, 0), (15, 56, 0), (2, 56, 1), (1, 56, 1)(5, 57, 0), (15, 57, 0), (1, 57, 0), (8, 57, 0), (2, 57, 0), (1, 57, 1), (2, 57, 1)(5, 58, 0), (18, 58, 0), (8, 58, 0), (1, 58, 0), (6, 58, 0)(10, 59, 0), (6, 59, 0), (2, 59, 1), (1, 59, 1)(10, 60, 0), (2, 60, 1), (1, 60, 1)(1, 61, 1), (2, 61, 1)(6, 62, 0), (3, 62, 0), (2, 62, 0), (13, 62, 0), (2, 62, 1)(9, 63, 0), (5, 63, 0), (6, 63, 0), (1, 63, 1), (2, 63, 1)(8, 64, 0), (12, 64, 0), (19, 64, 0), (1, 64, 0), (4, 64, 0), (2, 64, 1), (1, 64, 1)(2, 65, 0), (12, 65, 0), (11, 65, 0)(5, 66, 0), (2, 66, 1), (1, 66, 1)(1, 67, 1), (2, 67, 1)(14, 68, 0)(1, 69, 0), (20, 69, 0), (1, 69, 1), (2, 69, 1)(14, 70, 0), (2, 70, 1)(10, 71, 0), (7, 71, 0), (2, 71, 0), (6, 71, 0), (1, 71, 1)(19, 72, 0), (3, 72, 0), (5, 72, 0), (2, 72, 1), (1, 72, 1)(2, 73, 0), (12, 73, 0), (20, 73, 0), (18, 73, 0), (2, 73, 1), (1, 73, 1)(16, 74, 0), (8, 74, 0), (5, 74, 0), (13, 74, 0), (2, 74, 0), (11, 74, 0), (14, 74, 0), (7, 74, 0), (15, 74, 0), (6, 74, 0), (1, 74, 0), (4, 74, 0), (17, 74, 0), (20, 74, 0), (19, 74, 0), (12, 74, 0), (18, 74, 0), (9, 74, 0), (3, 74, 0), (10, 74, 0), (1, 74, 1), (2, 74, 1)(15, 75, 0), (18, 75, 0), (10, 75, 0), (16, 75, 0), (20, 75, 0)(1, 76, 1), (2, 76, 1)(2, 77, 0), (1, 77, 0), (10, 77, 0), (19, 77, 0), (2, 77, 1), (1, 77, 1)(1, 78, 1)(14, 79, 0), (8, 79, 0), (19, 79, 0)(15, 80, 0), (13, 80, 0), (16, 80, 0), (17, 80, 0), (2, 80, 1), (1, 80, 1)(6, 81, 0), (8, 81, 0), (1, 81, 1), (2, 81, 1)(13, 82, 0), (7, 82, 0), (2, 82, 1), (1, 82, 1)(6, 83, 0), (3, 83, 0), (19, 83, 0), (2, 83, 1), (1, 83, 1)(3, 84, 0), (19, 84, 0), (11, 84, 0), (2, 84, 1), (1, 84, 1)(14, 85, 0), (16, 85, 0), (1, 85, 0), (19, 85, 0), (1, 85, 1), (2, 85, 1)(17, 86, 0), (1, 86, 0), (2, 86, 1)(17, 87, 0), (20, 87, 0), (16, 87, 0), (4, 87, 0), (13, 87, 0), (1, 87, 1)(5, 88, 0)(9, 89, 0), (2, 89, 1), (1, 89, 1)(7, 90, 0), (8, 90, 0), (6, 90, 0), (2, 90, 1), (1, 90, 1)(3, 91, 0), (16, 91, 0), (14, 91, 0), (1, 91, 0), (12, 91, 0), (1, 91, 1)(2, 92, 0), (9, 92, 0), (5, 92, 0), (6, 92, 0), (8, 92, 0)(2, 93, 1), (1, 93, 1)(5, 94, 0), (6, 94, 0), (16, 94, 0), (10, 94, 0), (2, 94, 1), (1, 94, 1)(8, 95, 0), (7, 95, 0), (2, 95, 1)(9, 96, 0), (7, 96, 0), (12, 96, 0), (2, 96, 1), (1, 96, 1)(10, 97, 0), (6, 97, 0), (14, 97, 0), (19, 97, 0), (2, 97, 0), (1, 97, 0), (13, 97, 0), (18, 97, 0), (9, 97, 0), (5, 97, 0), (8, 97, 0), (7, 97, 0), (3, 97, 0), (11, 97, 0), (17, 97, 0), (12, 97, 0), (20, 97, 0), (16, 97, 0), (15, 97, 0), (4, 97, 0), (2, 97, 1), (1, 97, 1)(9, 98, 0), (1, 98, 1), (2, 98, 1)(17, 99, 0), (13, 99, 0), (3, 99, 0), (2, 99, 0), (12, 99, 0), (2, 99, 1), (1, 99, 1)(6, 100, 0), (4, 100, 0), (12, 100, 0), (2, 100, 0), (18, 100, 0)(16, 101, 0), (4, 101, 0), (1, 101, 1)(3, 102, 0), (5, 102, 0), (1, 102, 0), (4, 102, 0), (13, 102, 0), (2, 102, 1), (1, 102, 1)(1, 103, 0)(12, 104, 0), (2, 104, 1), (1, 104, 1)(2, 105, 0), (14, 105, 0), (17, 105, 0), (19, 105, 0), (2, 105, 1), (1, 105, 1)(5, 106, 0), (20, 106, 0), (4, 106, 0), (2, 106, 1), (1, 106, 1)(11, 107, 0), (20, 107, 0), (17, 107, 0), (3, 107, 0), (13, 107, 0), (2, 107, 1), (1, 107, 1)(16, 108, 0), (11, 108, 0), (7, 108, 0), (15, 108, 0), (2, 108, 0), (2, 108, 1), (1, 108, 1)(18, 109, 0), (20, 109, 0), (5, 109, 0), (1, 109, 0)(17, 111, 0), (12, 111, 0), (19, 111, 0), (1, 111, 1), (2, 111, 1)(9, 112, 0), (17, 112, 0), (2, 112, 1), (1, 112, 1)(3, 113, 0), (4, 113, 0), (9, 113, 0), (2, 113, 1), (1, 113, 1)(4, 114, 0), (6, 114, 0), (11, 114, 0), (19, 114, 0), (1, 114, 1)(15, 115, 0), (3, 115, 0), (9, 115, 0), (20, 115, 0), (17, 115, 0), (2, 115, 1), (1, 115, 1)(12, 116, 0), (1, 116, 0), (14, 116, 0), (7, 116, 0), (20, 116, 0)(18, 117, 0), (1, 117, 1)(18, 118, 0)(16, 119, 0), (1, 119, 1), (2, 119, 1)(16, 120, 0), (3, 120, 0), (11, 120, 0), (1, 120, 1)(1, 121, 1), (2, 121, 1)(1, 122, 0), (13, 122, 0), (11, 122, 0), (5, 122, 0), (15, 122, 0), (6, 122, 0), (4, 122, 0), (2, 122, 0), (14, 122, 0), (7, 122, 0), (18, 122, 0), (17, 122, 0), (3, 122, 0), (19, 122, 0), (12, 122, 0), (16, 122, 0), (9, 122, 0), (8, 122, 0), (20, 122, 0), (10, 122, 0), (2, 122, 1), (1, 122, 1)(11, 123, 0), (13, 123, 0), (6, 123, 0), (2, 123, 1), (1, 123, 1)(9, 124, 0)(2, 125, 1), (1, 125, 1)(17, 126, 0), (10, 126, 0), (6, 126, 0), (3, 126, 0), (12, 126, 0), (1, 126, 1), (2, 126, 1)(19, 127, 0), (9, 127, 0), (2, 127, 1), (1, 127, 1)(6, 128, 0), (18, 128, 0), (7, 128, 0), (2, 128, 0), (1, 128, 1), (2, 128, 1)(14, 129, 0), (17, 129, 0), (1, 129, 1)(9, 130, 0), (1, 130, 1), (2, 130, 1)(6, 131, 0), (15, 131, 0), (2, 131, 0), (2, 131, 1), (1, 131, 1)(12, 132, 0)(1, 133, 1), (2, 133, 1)(13, 134, 0), (8, 134, 0), (1, 134, 1), (2, 134, 1)(14, 135, 0), (2, 135, 0), (7, 135, 0), (13, 135, 0), (15, 135, 0), (2, 135, 1), (1, 135, 1)(5, 136, 0), (15, 136, 0), (2, 136, 1), (1, 136, 1)(2, 137, 1), (1, 137, 1)(11, 138, 0), (8, 138, 0), (1, 138, 1)(17, 139, 0), (6, 139, 0), (15, 139, 0)(5, 140, 0), (20, 140, 0), (3, 140, 0), (1, 140, 1), (2, 140, 1)(17, 141, 0), (6, 141, 0), (4, 141, 0), (16, 141, 0), (11, 141, 0), (2, 141, 1), (1, 141, 1)(2, 142, 0), (4, 142, 0), (12, 142, 0)(9, 143, 0), (8, 143, 0), (1, 143, 1), (2, 143, 1)(16, 144, 0), (18, 144, 0), (6, 144, 0), (2, 144, 0), (1, 144, 1)(7, 145, 0), (9, 145, 0), (3, 145, 0), (16, 145, 0), (6, 145, 0), (4, 145, 0), (11, 145, 0), (13, 145, 0), (15, 145, 0), (5, 145, 0), (2, 145, 0), (12, 145, 0), (8, 145, 0), (19, 145, 0), (10, 145, 0), (1, 145, 0), (14, 145, 0), (20, 145, 0), (17, 145, 0), (18, 145, 0), (1, 145, 1), (2, 145, 1)(19, 146, 0)(15, 147, 0), (17, 147, 0), (16, 147, 0), (6, 147, 0), (1, 147, 1), (2, 147, 1)(17, 148, 0), (20, 148, 0), (7, 148, 0), (1, 148, 1), (2, 148, 1)(13, 149, 0), (1, 149, 1), (2, 149, 1)(15, 150, 0), (3, 150, 0), (11, 150, 0), (6, 150, 0), (8, 150, 0), (2, 150, 1)(11, 151, 0), (2, 151, 1), (1, 151, 1)(17, 152, 0), (11, 152, 0), (1, 152, 1)(2, 153, 1), (1, 153, 1)(5, 154, 0), (10, 154, 0), (1, 154, 1)(8, 155, 0), (20, 155, 0), (1, 155, 1)(10, 156, 0), (1, 156, 0), (6, 156, 0)(12, 157, 0), (1, 157, 1), (2, 157, 1)(6, 158, 0), (3, 158, 0), (1, 158, 1), (2, 158, 1)(12, 159, 0), (7, 159, 0), (1, 159, 1)(2, 160, 0), (7, 160, 0), (2, 160, 1)(6, 161, 0), (4, 161, 0), (17, 161, 0), (12, 161, 0)(1, 162, 1), (2, 162, 1)(13, 163, 0), (11, 163, 0), (1, 163, 0), (2, 163, 1), (1, 163, 1)(6, 164, 0), (2, 164, 1)(8, 165, 0), (11, 165, 0), (1, 165, 0), (16, 165, 0)(14, 166, 0), (18, 166, 0), (7, 166, 0)(5, 167, 0), (2, 167, 1), (1, 167, 1)(11, 168, 0), (10, 168, 0), (18, 168, 0), (1, 168, 1), (2, 168, 1)(18, 169, 0), (2, 169, 1), (1, 169, 1)(12, 170, 0), (8, 170, 0), (19, 170, 0), (5, 170, 0), (11, 170, 0), (3, 170, 0), (18, 170, 0), (10, 170, 0), (20, 170, 0), (15, 170, 0), (1, 170, 0), (16, 170, 0), (14, 170, 0), (6, 170, 0), (17, 170, 0), (9, 170, 0), (13, 170, 0), (4, 170, 0), (7, 170, 0), (2, 170, 0), (1, 170, 1), (2, 170, 1)(2, 171, 0)(14, 172, 0), (9, 172, 0), (10, 172, 0), (7, 172, 0)(5, 173, 0), (2, 173, 1), (1, 173, 1)(1, 174, 1), (2, 174, 1)(2, 175, 1), (1, 175, 1)(2, 176, 1), (1, 176, 1)(19, 177, 0), (7, 177, 0), (1, 177, 1), (2, 177, 1)(1, 178, 1), (2, 178, 1)(16, 179, 0)(2, 180, 1), (1, 180, 1)(19, 181, 0), (2, 181, 1)(2, 182, 0), (8, 182, 0)(5, 183, 0), (1, 183, 1), (2, 183, 1)(1, 184, 1), (2, 184, 1)(12, 185, 0), (2, 185, 1), (1, 185, 1)(18, 186, 0), (2, 186, 1), (1, 186, 1)(7, 187, 0), (1, 187, 0), (1, 187, 1), (2, 187, 1)(1, 188, 1)(10, 189, 0), (15, 189, 0), (7, 189, 0), (20, 189, 0), (2, 189, 1), (1, 189, 1)(17, 190, 0), (1, 190, 1), (2, 190, 1)(1, 191, 0), (1, 191, 1)(2, 192, 1), (1, 192, 1)(4, 193, 0), (6, 193, 0), (1, 193, 0), (8, 193, 0), (20, 193, 0), (2, 193, 0), (9, 193, 0), (12, 193, 0), (5, 193, 0), (18, 193, 0), (19, 193, 0), (11, 193, 0), (10, 193, 0), (17, 193, 0), (16, 193, 0), (3, 193, 0), (15, 193, 0), (14, 193, 0), (13, 193, 0), (7, 193, 0), (1, 193, 1), (2, 193, 1)(19, 194, 0), (2, 194, 1), (1, 194, 1)(2, 195, 1), (1, 195, 1)(6, 196, 0), (18, 196, 0), (20, 196, 0), (12, 196, 0), (5, 196, 0), (1, 196, 1), (2, 196, 1)(2, 197, 1), (1, 197, 1)(2, 198, 1)\n",
      "INSERT INTO [dbo].[Conference_Day_Participant] (Person_ID, Reservation_ID, Student) VALUES (1, 198, 1)(10, 199, 0), (19, 199, 0), (1, 199, 1), (2, 199, 1)(2, 200, 1)(2, 201, 1), (1, 201, 1)(14, 202, 0), (1, 202, 1), (2, 202, 1)(5, 203, 0), (12, 203, 0), (20, 203, 0), (7, 203, 0), (2, 203, 1)(15, 205, 0), (4, 205, 0), (16, 205, 0), (6, 205, 0), (2, 205, 1), (1, 205, 1)(4, 206, 0), (12, 206, 0), (16, 206, 0), (1, 206, 0), (6, 206, 0), (2, 206, 1), (1, 206, 1)(1, 207, 0)(1, 208, 1), (2, 208, 1)(11, 209, 0), (1, 209, 0)(13, 210, 0), (16, 210, 0), (2, 210, 1), (1, 210, 1)(17, 211, 0), (12, 211, 0), (10, 211, 0), (18, 211, 0), (5, 211, 0), (1, 211, 1), (2, 211, 1)(15, 212, 0), (4, 212, 0), (9, 212, 0)(7, 213, 0), (8, 213, 0), (12, 213, 0), (1, 213, 1)(19, 214, 0), (16, 214, 0), (6, 214, 0), (2, 214, 1), (1, 214, 1)(7, 215, 0), (11, 215, 0), (13, 215, 0), (1, 215, 1), (2, 215, 1)(1, 216, 1), (2, 216, 1)(4, 217, 0), (13, 217, 0), (17, 217, 0), (16, 217, 0), (7, 217, 0), (1, 217, 1)(6, 218, 0), (19, 218, 0), (13, 218, 0), (1, 218, 0), (16, 218, 0), (10, 218, 0), (7, 218, 0), (11, 218, 0), (17, 218, 0), (5, 218, 0), (20, 218, 0), (2, 218, 0), (18, 218, 0), (8, 218, 0), (3, 218, 0), (12, 218, 0), (4, 218, 0), (15, 218, 0), (9, 218, 0), (14, 218, 0), (2, 218, 1), (1, 218, 1)(2, 219, 1), (1, 219, 1)(11, 220, 0), (1, 220, 1), (2, 220, 1)(15, 221, 0), (9, 221, 0), (16, 221, 0), (1, 221, 1), (2, 221, 1)(8, 222, 0), (14, 222, 0), (1, 222, 1), (2, 222, 1)(5, 223, 0), (1, 223, 1), (2, 223, 1)(11, 224, 0), (12, 224, 0), (7, 224, 0)(3, 225, 0), (2, 225, 0), (9, 225, 0), (5, 225, 0), (2, 225, 1), (1, 225, 1)(10, 226, 0), (12, 226, 0), (18, 226, 0), (19, 226, 0), (20, 226, 0), (2, 226, 1), (1, 226, 1)(19, 227, 0), (7, 227, 0), (2, 227, 0), (20, 227, 0), (1, 227, 1), (2, 227, 1)(1, 228, 1), (2, 228, 1)(11, 229, 0), (17, 229, 0), (14, 229, 0), (1, 229, 1), (2, 229, 1)(1, 230, 1), (2, 230, 1)(9, 231, 0), (18, 231, 0), (7, 231, 0), (2, 231, 1), (1, 231, 1)(9, 232, 0), (6, 232, 0), (2, 232, 0), (7, 232, 0), (11, 232, 0)(7, 233, 0), (12, 233, 0), (16, 233, 0), (10, 233, 0), (1, 233, 1), (2, 233, 1)(2, 234, 1), (1, 234, 1)(11, 235, 0), (3, 235, 0), (1, 235, 1)(1, 236, 0), (3, 236, 0), (12, 236, 0), (1, 236, 1), (2, 236, 1)(2, 237, 1)(4, 238, 0), (2, 238, 1), (1, 238, 1)(8, 239, 0), (17, 239, 0), (5, 239, 0), (1, 239, 1), (2, 239, 1)(8, 240, 0), (14, 240, 0), (12, 240, 0), (6, 240, 0), (15, 240, 0)(18, 241, 0), (2, 241, 0), (7, 241, 0), (20, 241, 0), (5, 241, 0), (2, 241, 1), (1, 241, 1)(2, 242, 1), (1, 242, 1)(9, 243, 0), (6, 243, 0), (4, 243, 0), (17, 243, 0), (8, 243, 0), (2, 243, 0), (7, 243, 0), (15, 243, 0), (1, 243, 0), (13, 243, 0), (12, 243, 0), (19, 243, 0), (14, 243, 0), (18, 243, 0), (16, 243, 0), (5, 243, 0), (3, 243, 0), (10, 243, 0), (11, 243, 0), (20, 243, 0), (1, 243, 1), (2, 243, 1)(14, 244, 0), (3, 244, 0), (20, 244, 0), (6, 244, 0), (2, 244, 1), (1, 244, 1)(17, 245, 0), (18, 245, 0), (8, 245, 0), (5, 245, 0), (1, 245, 1), (2, 245, 1)(1, 246, 0), (10, 246, 0), (7, 246, 0), (12, 246, 0), (14, 246, 0), (1, 246, 1)(3, 247, 0), (18, 247, 0), (4, 247, 0), (7, 247, 0), (2, 247, 1), (1, 247, 1)(11, 248, 0), (15, 248, 0), (9, 248, 0), (16, 248, 0), (2, 248, 1), (1, 248, 1)(14, 249, 0)(12, 250, 0), (10, 250, 0), (17, 250, 0), (3, 250, 0), (13, 250, 0), (2, 250, 1), (1, 250, 1)(11, 251, 0), (20, 251, 0), (5, 251, 0), (2, 251, 1), (1, 251, 1)(12, 252, 0), (13, 252, 0), (3, 252, 0), (1, 252, 1), (2, 252, 1)(20, 253, 0), (4, 253, 0), (2, 253, 1), (1, 253, 1)(19, 254, 0)(17, 255, 0), (8, 255, 0), (3, 255, 0), (6, 255, 0), (7, 255, 0), (1, 255, 1), (2, 255, 1)(12, 256, 0), (15, 256, 0), (1, 256, 0), (5, 256, 0), (11, 256, 0), (2, 256, 1), (1, 256, 1)(1, 257, 1), (2, 257, 1)(12, 258, 0), (16, 258, 0), (6, 258, 0), (3, 258, 0), (1, 258, 1), (2, 258, 1)(20, 259, 0)(1, 260, 1)(18, 261, 0), (15, 261, 0), (14, 261, 0), (3, 261, 0), (17, 261, 0), (1, 261, 1), (2, 261, 1)(19, 262, 0), (10, 262, 0), (2, 262, 0), (9, 262, 0), (2, 262, 1), (1, 262, 1)(7, 263, 0), (1, 263, 1), (2, 263, 1)(1, 264, 1), (2, 264, 1)(18, 265, 0), (10, 265, 0), (13, 265, 0), (2, 265, 1), (1, 265, 1)(5, 266, 0), (17, 266, 0), (11, 266, 0), (19, 266, 0), (13, 266, 0), (1, 266, 1), (2, 266, 1)(14, 267, 0)(8, 268, 0), (11, 268, 0), (9, 268, 0), (1, 268, 0), (20, 268, 0), (19, 268, 0), (6, 268, 0), (15, 268, 0), (18, 268, 0), (5, 268, 0), (10, 268, 0), (2, 268, 0), (7, 268, 0), (3, 268, 0), (14, 268, 0), (4, 268, 0), (16, 268, 0), (13, 268, 0), (17, 268, 0), (12, 268, 0), (2, 268, 1), (1, 268, 1)\n"
     ]
    }
   ],
   "source": [
    "print(days_enrolment())"
   ]
  },
  {
   "cell_type": "code",
   "execution_count": 422,
   "metadata": {},
   "outputs": [
    {
     "name": "stdout",
     "output_type": "stream",
     "text": [
      "[(1, 1, datetime.date(2019, 1, 29), 97, 330, 0), (2, 1, datetime.date(2019, 1, 30), 74, 150, 0), (3, 2, datetime.date(2019, 9, 9), 94, 220, 0), (4, 2, datetime.date(2019, 9, 10), 70, 380, 0), (5, 2, datetime.date(2019, 9, 11), 75, 200, 0), (6, 2, datetime.date(2019, 9, 12), 70, 370, 0), (7, 3, datetime.date(2017, 10, 15), 98, 290, 1), (8, 3, datetime.date(2017, 10, 16), 70, 180, 0), (9, 3, datetime.date(2017, 10, 17), 91, 150, 0), (10, 4, datetime.date(2017, 8, 7), 75, 310, 0), (11, 4, datetime.date(2017, 8, 8), 79, 150, 0)]\n"
     ]
    }
   ],
   "source": [
    "print(list_of_days)"
   ]
  },
  {
   "cell_type": "code",
   "execution_count": 423,
   "metadata": {},
   "outputs": [
    {
     "name": "stdout",
     "output_type": "stream",
     "text": [
      "[(1, 123, 1, 6, 1, 0), (2, 75, 2, 4, 1, 0), (3, 123, 3, 6, 1, 0), (4, 1, 4, 1, 1, 0), (5, 1, 5, 1, 1, 0), (6, 146, 6, 7, 1, 1), (7, 146, 7, 7, 1, 1), (8, 147, 7, 7, 1, 1), (9, 98, 8, 5, 1, 1), (10, 99, 8, 5, 1, 0), (11, 171, 9, 8, 1, 0), (12, 172, 9, 8, 1, 1), (13, 1, 10, 1, 1, 0), (14, 2, 10, 1, 1, 1), (15, 171, 11, 8, 1, 0), (16, 172, 11, 8, 1, 0), (17, 1, 12, 1, 1, 0), (18, 2, 12, 1, 1, 0), (19, 1, 13, 1, 1, 1), (20, 2, 13, 1, 1, 0), (21, 75, 14, 4, 1, 0), (22, 76, 14, 4, 1, 0), (23, 146, 15, 7, 1, 1), (24, 147, 15, 7, 1, 1), (25, 171, 16, 8, 1, 0), (26, 172, 16, 8, 1, 0), (27, 75, 17, 4, 1, 0), (28, 76, 17, 4, 1, 0), (29, 50, 18, 3, 1, 0), (30, 98, 19, 5, 1, 1), (31, 99, 19, 5, 1, 0), (32, 1, 20, 1, 1, 0), (33, 2, 20, 1, 1, 0), (34, 3, 20, 1, 1, 0), (35, 146, 21, 7, 1, 1), (36, 147, 21, 7, 1, 1), (37, 148, 21, 7, 1, 1), (38, 123, 22, 6, 1, 0), (39, 124, 22, 6, 1, 0), (40, 125, 22, 6, 1, 0), (41, 1, 23, 1, 1, 0), (42, 2, 23, 1, 1, 0), (43, 3, 23, 1, 1, 0), (44, 1, 24, 1, 1, 0), (45, 2, 24, 1, 1, 0), (46, 3, 24, 1, 1, 0), (47, 75, 25, 4, 1, 0), (48, 76, 25, 4, 1, 0), (49, 77, 25, 4, 1, 0), (50, 146, 26, 7, 1, 1), (51, 147, 26, 7, 1, 1), (52, 148, 26, 7, 1, 1), (53, 1, 27, 1, 1, 0), (54, 2, 27, 1, 1, 0), (55, 3, 27, 1, 1, 0), (56, 4, 27, 1, 1, 0), (57, 123, 28, 6, 1, 0), (58, 124, 28, 6, 1, 0), (59, 125, 28, 6, 1, 0), (60, 126, 28, 6, 1, 0), (61, 98, 29, 5, 1, 1), (62, 99, 29, 5, 1, 1), (63, 100, 29, 5, 1, 1), (64, 101, 29, 5, 1, 0), (65, 1, 30, 1, 1, 0), (66, 2, 30, 1, 1, 0), (67, 3, 30, 1, 1, 0), (68, 4, 30, 1, 1, 0), (69, 146, 31, 7, 1, 1), (70, 147, 31, 7, 1, 1), (71, 148, 31, 7, 1, 1), (72, 149, 31, 7, 1, 1), (73, 75, 32, 4, 1, 0), (74, 76, 32, 4, 1, 0), (75, 77, 32, 4, 1, 0), (76, 78, 32, 4, 1, 0)]\n"
     ]
    }
   ],
   "source": [
    "print(list_of_workshop_bookings)"
   ]
  },
  {
   "cell_type": "code",
   "execution_count": 431,
   "metadata": {},
   "outputs": [
    {
     "ename": "IndexError",
     "evalue": "list index out of range",
     "output_type": "error",
     "traceback": [
      "\u001b[1;31m---------------------------------------------------------------------------\u001b[0m",
      "\u001b[1;31mIndexError\u001b[0m                                Traceback (most recent call last)",
      "\u001b[1;32m<ipython-input-431-278bc1062b25>\u001b[0m in \u001b[0;36m<module>\u001b[1;34m\u001b[0m\n\u001b[1;32m----> 1\u001b[1;33m \u001b[0mprint\u001b[0m\u001b[1;33m(\u001b[0m\u001b[0mworkshops_participation\u001b[0m\u001b[1;33m(\u001b[0m\u001b[1;33m)\u001b[0m\u001b[1;33m)\u001b[0m\u001b[1;33m\u001b[0m\u001b[1;33m\u001b[0m\u001b[0m\n\u001b[0m",
      "\u001b[1;32m<ipython-input-400-b70832e8710e>\u001b[0m in \u001b[0;36mworkshops_participation\u001b[1;34m()\u001b[0m\n\u001b[0;32m     20\u001b[0m         \u001b[1;32mfor\u001b[0m \u001b[0mdeID\u001b[0m \u001b[1;32min\u001b[0m \u001b[0mde\u001b[0m\u001b[1;33m:\u001b[0m\u001b[1;33m\u001b[0m\u001b[1;33m\u001b[0m\u001b[0m\n\u001b[0;32m     21\u001b[0m             previous_workshops = [list_of_workshop_bookings[pe[2]-1][2]\n\u001b[1;32m---> 22\u001b[1;33m                                   for pe in list_of_workshop_enrollment if pe[1] == deID]\n\u001b[0m\u001b[0;32m     23\u001b[0m \u001b[1;33m\u001b[0m\u001b[0m\n\u001b[0;32m     24\u001b[0m \u001b[1;33m\u001b[0m\u001b[0m\n",
      "\u001b[1;32m<ipython-input-400-b70832e8710e>\u001b[0m in \u001b[0;36m<listcomp>\u001b[1;34m(.0)\u001b[0m\n\u001b[0;32m     20\u001b[0m         \u001b[1;32mfor\u001b[0m \u001b[0mdeID\u001b[0m \u001b[1;32min\u001b[0m \u001b[0mde\u001b[0m\u001b[1;33m:\u001b[0m\u001b[1;33m\u001b[0m\u001b[1;33m\u001b[0m\u001b[0m\n\u001b[0;32m     21\u001b[0m             previous_workshops = [list_of_workshop_bookings[pe[2]-1][2]\n\u001b[1;32m---> 22\u001b[1;33m                                   for pe in list_of_workshop_enrollment if pe[1] == deID]\n\u001b[0m\u001b[0;32m     23\u001b[0m \u001b[1;33m\u001b[0m\u001b[0m\n\u001b[0;32m     24\u001b[0m \u001b[1;33m\u001b[0m\u001b[0m\n",
      "\u001b[1;31mIndexError\u001b[0m: list index out of range"
     ]
    }
   ],
   "source": [
    "print(workshops_participation())"
   ]
  },
  {
   "cell_type": "code",
   "execution_count": null,
   "metadata": {},
   "outputs": [],
   "source": []
  },
  {
   "cell_type": "code",
   "execution_count": 266,
   "metadata": {},
   "outputs": [
    {
     "name": "stdout",
     "output_type": "stream",
     "text": [
      "[]\n"
     ]
    }
   ],
   "source": [
    "print(list_of_days_bookings)"
   ]
  },
  {
   "cell_type": "code",
   "execution_count": 1,
   "metadata": {},
   "outputs": [
    {
     "ename": "NameError",
     "evalue": "name 'participants' is not defined",
     "output_type": "error",
     "traceback": [
      "\u001b[1;31m---------------------------------------------------------------------------\u001b[0m",
      "\u001b[1;31mNameError\u001b[0m                                 Traceback (most recent call last)",
      "\u001b[1;32m<ipython-input-1-c8ce6d0cd831>\u001b[0m in \u001b[0;36m<module>\u001b[1;34m\u001b[0m\n\u001b[0;32m     11\u001b[0m       \u001b[0mworkshops_bookings\u001b[0m\u001b[1;33m(\u001b[0m\u001b[1;33m)\u001b[0m \u001b[1;33m+\u001b[0m \u001b[1;34m\"\\n\"\u001b[0m \u001b[1;33m+\u001b[0m\u001b[1;33m\u001b[0m\u001b[1;33m\u001b[0m\u001b[0m\n\u001b[0;32m     12\u001b[0m       \u001b[0mworkshops_enrolment\u001b[0m\u001b[1;33m(\u001b[0m\u001b[1;33m)\u001b[0m \u001b[1;33m+\u001b[0m \u001b[1;34m\"\\n\"\u001b[0m \u001b[1;33m+\u001b[0m\u001b[1;33m\u001b[0m\u001b[1;33m\u001b[0m\u001b[0m\n\u001b[1;32m---> 13\u001b[1;33m       payments() + \"\\n\")\n\u001b[0m",
      "\u001b[1;31mNameError\u001b[0m: name 'participants' is not defined"
     ]
    }
   ],
   "source": [
    "\n",
    "\n",
    "print(participants(2900) + \"\\n\" +\n",
    "      customers(100) + \"\\n\" +\n",
    "      conferences(72) + \"\\n\" +\n",
    "      days() + \"\\n\" +\n",
    "      conferences_bookings() + \"\\n\" +\n",
    "      days_bookings() + \"\\n\" +\n",
    "      days_enrolment() + \"\\n\" +\n",
    "      prices() + \"\\n\" +\n",
    "      workshops() + \"\\n\" +\n",
    "      workshops_bookings() + \"\\n\" +\n",
    "      workshops_enrolment() + \"\\n\" +\n",
    "      payments() + \"\\n\")"
   ]
  },
  {
   "cell_type": "code",
   "execution_count": null,
   "metadata": {},
   "outputs": [],
   "source": []
  }
 ],
 "metadata": {
  "kernelspec": {
   "display_name": "Python 3",
   "language": "python",
   "name": "python3"
  },
  "language_info": {
   "codemirror_mode": {
    "name": "ipython",
    "version": 3
   },
   "file_extension": ".py",
   "mimetype": "text/x-python",
   "name": "python",
   "nbconvert_exporter": "python",
   "pygments_lexer": "ipython3",
   "version": "3.7.3"
  }
 },
 "nbformat": 4,
 "nbformat_minor": 2
}
